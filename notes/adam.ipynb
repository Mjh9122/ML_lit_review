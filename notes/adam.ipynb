{
  "cells": [
    {
      "cell_type": "markdown",
      "metadata": {
        "id": "Kq4xMGFlDHx2"
      },
      "source": [
        "# Notes on Adam: A method for Stochastic Optimization\n",
        "## Authors Diederik P. Kingma, Jimmy Ba\n",
        "### Notes: Michael Holtz"
      ]
    },
    {
      "cell_type": "markdown",
      "metadata": {
        "id": "ybov0WDIDbau"
      },
      "source": [
        "### Abstract\n",
        "The authors propose Adam and Adamax, algorithms for first-order gradient based optimization of stochastic objective functions, based on adaptive estimations of lower-order moments. They claim that it is efficient, easy to understand, and performs comperably if not better than other optimization functions."
      ]
    },
    {
      "cell_type": "markdown",
      "metadata": {
        "id": "9aKTj3mpEDOO"
      },
      "source": [
        "### Introduction\n",
        "\n",
        "The authors introduce optimization problems as essential to science and engineering. They note that gradient descent is a good way of solving these problems, given the objective function is differentible w.r.t. its parameters. SGD has been shown to be efficient and effective in deep learning tasks. They propose adam as a competitor to SGD, RMSprop, and AdaGrad."
      ]
    },
    {
      "cell_type": "code",
      "execution_count": 1,
      "metadata": {
        "id": "cfsR0tIMAjbw"
      },
      "outputs": [],
      "source": [
        "def Adam(f, f_grad, theta, convergence_criteria, alpha = .001, beta1 = .9, beta2 = .999, eps = 10 ** -8):\n",
        "    m, v, t = 0, 0, 0\n",
        "    while not convergence_criteria:\n",
        "        t = t + 1\n",
        "        g = f_grad(theta)\n",
        "        m = beta1 * m + (1 - beta1) * g\n",
        "        v = beta2 * v + (1 - beta2) * g ** 2\n",
        "        m_hat = m / (1 - beta1 ** t)\n",
        "        v_hat = v / (1 - beta2 ** t)\n",
        "        theta = theta - alpha * m_hat / (v_hat ** .5 + eps)\n",
        "    return theta"
      ]
    },
    {
      "cell_type": "markdown",
      "metadata": {
        "id": "bIOijfdeG1Sm"
      },
      "source": [
        "### Algorithm\n",
        "The algorithm is proposed to find a minimum of $f(\\theta)$, a stochastic scalar function differentiable with respect to $\\theta$. The stochasticity may come from the evaluation of random samples (minibatches) as in the case of machine learning training. The algorithm updates exponential moving averages of the gradient and the squared gradient, controled by the hyper-parameters $\\beta_1$ and $\\beta_2$. The moving averages are estimates for the first and second moments of the gradient (mean and uncentered variance). As these estimates are initialized to 0, the estimates are biased towards 0. This is corrected for in $\\hat{m}$ and $\\hat{v}$ where the bias is corrected for.  "
      ]
    },
    {
      "cell_type": "markdown",
      "metadata": {
        "id": "QI3G9HLiIm8-"
      },
      "source": [
        "### Update Rule\n",
        "The stepsize in Adam's update rule is $\\alpha \\cdot \\frac{\\hat{m_t}}{\\sqrt{\\hat{v_t}}}$ this stepsize is bound by $\\alpha \\cdot \\frac{(1 - \\beta_1)}{\\sqrt{1 - \\beta_2}}$ if $(1 - \\beta_1) > (\\sqrt{1-\\beta_2})$ and $\\alpha$ otherwise. This means that the effective magnitude of the steps taken in parameter space are approximately bounded by the step size hyper-parameter. This value can be thought of as a region anound the current parameters in the parameter space within which the user trusts that the gradient at the current parameters is useful.\n"
      ]
    },
    {
      "cell_type": "markdown",
      "metadata": {
        "id": "VppRLT_ULp-n"
      },
      "source": [
        "### Initial Bias Correction and Convergence Analysis\n",
        "The authors derive the bias correction term for the second moment, and evaluate the convergence criteria of the algorithm."
      ]
    },
    {
      "cell_type": "markdown",
      "metadata": {
        "id": "CxHEaz3TMCef"
      },
      "source": [
        "### The rest of the paper is filled with examples of Adam use, showing adam outperforming other optimization algorithms such as SGD, Adagrad, and RMSprop"
      ]
    },
    {
      "cell_type": "code",
      "execution_count": 2,
      "metadata": {
        "id": "w-cX8sCRMB5g"
      },
      "outputs": [],
      "source": [
        "def AdaMax(f, f_grad, theta, convergence_criteria, alpha = .001, beta1 = .9, beta2 = .999, eps = 10 ** -8):\n",
        "    m, v, t = 0, 0, 0\n",
        "    while not convergence_criteria:\n",
        "        t = t + 1\n",
        "        g = f_grad(theta)\n",
        "        m = beta1 * m + (1 - beta1) * g\n",
        "        u = max(beta2 * u, abs(g))\n",
        "        theta = theta - alpha/(1 - beta1 ** t) * m / (u + eps)\n",
        "    return theta"
      ]
    },
    {
      "cell_type": "markdown",
      "metadata": {
        "id": "dD5UkBckNOUw"
      },
      "source": [
        "### Experiment with Adam vs AdaMax vs SGD vs RMSprop with cnn on mnist"
      ]
    },
    {
      "cell_type": "code",
      "execution_count": 3,
      "metadata": {
        "colab": {
          "base_uri": "https://localhost:8080/"
        },
        "id": "SeHEIdsIAjbx",
        "outputId": "ad016ee2-48b9-4e33-db92-f2d0239858a1"
      },
      "outputs": [
        {
          "data": {
            "text/plain": [
              "device(type='cuda', index=0)"
            ]
          },
          "execution_count": 3,
          "metadata": {},
          "output_type": "execute_result"
        }
      ],
      "source": [
        "import torch\n",
        "import torchvision\n",
        "import torchvision.transforms as transforms\n",
        "import torch.nn as nn\n",
        "import torch.optim as optim\n",
        "import matplotlib.pyplot as plt\n",
        "\n",
        "from tqdm import tqdm\n",
        "\n",
        "device = torch.device(\"cuda:0\" if torch.cuda.is_available() else \"cpu\")\n",
        "device"
      ]
    },
    {
      "cell_type": "code",
      "execution_count": 4,
      "metadata": {
        "colab": {
          "base_uri": "https://localhost:8080/"
        },
        "id": "srfCJRH4NXUQ",
        "outputId": "ff428a4d-62fc-4e57-db43-333639fa1cdb"
      },
      "outputs": [
        {
          "name": "stdout",
          "output_type": "stream",
          "text": [
            "Downloading http://yann.lecun.com/exdb/mnist/train-images-idx3-ubyte.gz\n",
            "Failed to download (trying next):\n",
            "HTTP Error 403: Forbidden\n",
            "\n",
            "Downloading https://ossci-datasets.s3.amazonaws.com/mnist/train-images-idx3-ubyte.gz\n",
            "Downloading https://ossci-datasets.s3.amazonaws.com/mnist/train-images-idx3-ubyte.gz to ./data\\MNIST\\raw\\train-images-idx3-ubyte.gz\n"
          ]
        },
        {
          "name": "stderr",
          "output_type": "stream",
          "text": [
            "100%|██████████| 9.91M/9.91M [00:00<00:00, 32.4MB/s]\n"
          ]
        },
        {
          "name": "stdout",
          "output_type": "stream",
          "text": [
            "Extracting ./data\\MNIST\\raw\\train-images-idx3-ubyte.gz to ./data\\MNIST\\raw\n",
            "\n",
            "Downloading http://yann.lecun.com/exdb/mnist/train-labels-idx1-ubyte.gz\n",
            "Failed to download (trying next):\n",
            "HTTP Error 403: Forbidden\n",
            "\n",
            "Downloading https://ossci-datasets.s3.amazonaws.com/mnist/train-labels-idx1-ubyte.gz\n",
            "Downloading https://ossci-datasets.s3.amazonaws.com/mnist/train-labels-idx1-ubyte.gz to ./data\\MNIST\\raw\\train-labels-idx1-ubyte.gz\n"
          ]
        },
        {
          "name": "stderr",
          "output_type": "stream",
          "text": [
            "100%|██████████| 28.9k/28.9k [00:00<00:00, 1.84MB/s]\n"
          ]
        },
        {
          "name": "stdout",
          "output_type": "stream",
          "text": [
            "Extracting ./data\\MNIST\\raw\\train-labels-idx1-ubyte.gz to ./data\\MNIST\\raw\n",
            "\n",
            "Downloading http://yann.lecun.com/exdb/mnist/t10k-images-idx3-ubyte.gz\n",
            "Failed to download (trying next):\n",
            "HTTP Error 403: Forbidden\n",
            "\n",
            "Downloading https://ossci-datasets.s3.amazonaws.com/mnist/t10k-images-idx3-ubyte.gz\n",
            "Downloading https://ossci-datasets.s3.amazonaws.com/mnist/t10k-images-idx3-ubyte.gz to ./data\\MNIST\\raw\\t10k-images-idx3-ubyte.gz\n"
          ]
        },
        {
          "name": "stderr",
          "output_type": "stream",
          "text": [
            "100%|██████████| 1.65M/1.65M [00:00<00:00, 9.46MB/s]\n"
          ]
        },
        {
          "name": "stdout",
          "output_type": "stream",
          "text": [
            "Extracting ./data\\MNIST\\raw\\t10k-images-idx3-ubyte.gz to ./data\\MNIST\\raw\n",
            "\n",
            "Downloading http://yann.lecun.com/exdb/mnist/t10k-labels-idx1-ubyte.gz\n",
            "Failed to download (trying next):\n",
            "HTTP Error 403: Forbidden\n",
            "\n",
            "Downloading https://ossci-datasets.s3.amazonaws.com/mnist/t10k-labels-idx1-ubyte.gz\n",
            "Downloading https://ossci-datasets.s3.amazonaws.com/mnist/t10k-labels-idx1-ubyte.gz to ./data\\MNIST\\raw\\t10k-labels-idx1-ubyte.gz\n"
          ]
        },
        {
          "name": "stderr",
          "output_type": "stream",
          "text": [
            "100%|██████████| 4.54k/4.54k [00:00<?, ?B/s]"
          ]
        },
        {
          "name": "stdout",
          "output_type": "stream",
          "text": [
            "Extracting ./data\\MNIST\\raw\\t10k-labels-idx1-ubyte.gz to ./data\\MNIST\\raw\n",
            "\n",
            "Size of training set: 60000\n",
            "Size of testing set: 10000\n"
          ]
        },
        {
          "name": "stderr",
          "output_type": "stream",
          "text": [
            "\n"
          ]
        }
      ],
      "source": [
        "transform = transforms.Compose([transforms.ToTensor(), transforms.Normalize((0.5,), (0.5,))])\n",
        "trainset = torchvision.datasets.MNIST(root='./data', train=True, download=True, transform=transform)\n",
        "trainloader = torch.utils.data.DataLoader(trainset, batch_size=64, shuffle=True)\n",
        "testset = torchvision.datasets.MNIST(root='./data', train=False, download=True, transform=transform)\n",
        "testloader = torch.utils.data.DataLoader(testset, batch_size=1000, shuffle=False)\n",
        "\n",
        "print('Size of training set:', len(trainset))\n",
        "print('Size of testing set:', len(testset))"
      ]
    },
    {
      "cell_type": "code",
      "execution_count": 5,
      "metadata": {
        "id": "2AZ5VT5WN-nP"
      },
      "outputs": [],
      "source": [
        "class Net(nn.Module):\n",
        "    def __init__(self):\n",
        "        super(Net, self).__init__()\n",
        "        self.conv = nn.Conv2d(1, 3, 5)\n",
        "        self.pool = nn.MaxPool2d(2, 2)\n",
        "        self.conv2 = nn.Conv2d(3, 6, 5)\n",
        "        self.relu = nn.ReLU()\n",
        "        self.linear1 = nn.Linear(6 * 4 * 4, 10)\n",
        "        self.softmax = nn.Softmax(dim = 1)\n",
        "\n",
        "    def forward(self, x):\n",
        "        x = self.pool(self.relu(self.conv(x)))\n",
        "        x = self.pool(self.relu(self.conv2(x)))\n",
        "        x = x.view(-1, 6 * 4 * 4)\n",
        "        x = self.linear1(x)\n",
        "        x = self.softmax(x)\n",
        "        return x"
      ]
    },
    {
      "cell_type": "code",
      "execution_count": 6,
      "metadata": {
        "id": "x8BHCbuFOj-o"
      },
      "outputs": [],
      "source": [
        "def train_model(optimizer):\n",
        "    model = Net().to(device)\n",
        "    criterion = nn.CrossEntropyLoss()\n",
        "    optimizer = optimizer(model.parameters())\n",
        "\n",
        "    train_loss = []\n",
        "    test_loss = []\n",
        "\n",
        "    for epoch in tqdm(range(10)):\n",
        "        running_loss = 0.0\n",
        "        for inputs, labels in trainloader:\n",
        "            inputs, labels = inputs.to(device), labels.to(device)\n",
        "            optimizer.zero_grad()\n",
        "            outputs = model(inputs)\n",
        "            loss = criterion(outputs, labels)\n",
        "            loss.backward()\n",
        "            optimizer.step()\n",
        "            running_loss += loss.item()\n",
        "        train_loss.append(running_loss / len(trainloader))\n",
        "\n",
        "        running_loss = 0.0\n",
        "        with torch.no_grad():\n",
        "            for inputs, labels in testloader:\n",
        "                inputs, labels = inputs.to(device), labels.to(device)\n",
        "                outputs = model(inputs)\n",
        "                loss = criterion(outputs, labels)\n",
        "                running_loss += loss.item()\n",
        "        test_loss.append(running_loss / len(testloader))\n",
        "\n",
        "    return train_loss, test_loss"
      ]
    },
    {
      "cell_type": "code",
      "execution_count": 7,
      "metadata": {
        "colab": {
          "base_uri": "https://localhost:8080/"
        },
        "id": "NP-4F-16PYiv",
        "outputId": "d9ca645b-1574-4e8b-fcee-0f185dd12f6f"
      },
      "outputs": [
        {
          "name": "stdout",
          "output_type": "stream",
          "text": [
            "SGD\n"
          ]
        },
        {
          "name": "stderr",
          "output_type": "stream",
          "text": [
            "100%|██████████| 10/10 [01:07<00:00,  6.73s/it]\n"
          ]
        },
        {
          "name": "stdout",
          "output_type": "stream",
          "text": [
            "Adam\n"
          ]
        },
        {
          "name": "stderr",
          "output_type": "stream",
          "text": [
            "100%|██████████| 10/10 [01:12<00:00,  7.24s/it]\n"
          ]
        },
        {
          "name": "stdout",
          "output_type": "stream",
          "text": [
            "Adamax\n"
          ]
        },
        {
          "name": "stderr",
          "output_type": "stream",
          "text": [
            "100%|██████████| 10/10 [01:08<00:00,  6.90s/it]\n"
          ]
        },
        {
          "name": "stdout",
          "output_type": "stream",
          "text": [
            "RMSprop\n"
          ]
        },
        {
          "name": "stderr",
          "output_type": "stream",
          "text": [
            "100%|██████████| 10/10 [01:12<00:00,  7.20s/it]\n"
          ]
        }
      ],
      "source": [
        "optimizers = [optim.SGD, optim.Adam, optim.Adamax, optim.RMSprop]\n",
        "train_losses = []\n",
        "test_losses = []\n",
        "for optimizer in optimizers:\n",
        "    print(optimizer.__name__)\n",
        "    train_loss, test_loss = train_model(optimizer)\n",
        "    train_losses.append(train_loss)\n",
        "    test_losses.append(test_loss)"
      ]
    },
    {
      "cell_type": "code",
      "execution_count": 8,
      "metadata": {
        "colab": {
          "base_uri": "https://localhost:8080/",
          "height": 468
        },
        "id": "nQxSoI8iQBcv",
        "outputId": "f1178fa8-fb93-4093-9922-496e6ce245c7"
      },
      "outputs": [
        {
          "data": {
            "image/png": "[encoded data removed]",
            "text/plain": [
              "<Figure size 1000x500 with 2 Axes>"
            ]
          },
          "metadata": {},
          "output_type": "display_data"
        }
      ],
      "source": [
        "fig, axs = plt.subplots(1, 2, figsize = (10, 5))\n",
        "for i in range(len(optimizers)):\n",
        "    axs[0].plot(train_losses[i], label = optimizers[i].__name__)\n",
        "    axs[0].legend()\n",
        "    axs[0].set_title('Training Loss')\n",
        "    axs[1].plot(test_losses[i], label=optimizers[i].__name__)\n",
        "    axs[1].legend()\n",
        "    axs[1].set_title('Testing Loss')\n",
        "plt.show()"
      ]
    }
  ],
  "metadata": {
    "colab": {
      "provenance": []
    },
    "kernelspec": {
      "display_name": "nlp",
      "language": "python",
      "name": "python3"
    },
    "language_info": {
      "codemirror_mode": {
        "name": "ipython",
        "version": 3
      },
      "file_extension": ".py",
      "mimetype": "text/x-python",
      "name": "python",
      "nbconvert_exporter": "python",
      "pygments_lexer": "ipython3",
      "version": "3.12.7"
    }
  },
  "nbformat": 4,
  "nbformat_minor": 0
}
