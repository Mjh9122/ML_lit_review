{
 "cells": [
  {
   "cell_type": "markdown",
   "metadata": {},
   "source": [
    "# Notes on Learning representations by back-propagating errors (1986)\n",
    "## Authors: David E. Rumelhart, Geoffrey E. Hinton, Ronald J. Williams\n",
    "### Notes: Michael Holtz"
   ]
  },
  {
   "cell_type": "markdown",
   "metadata": {},
   "source": [
    "### Abstract\n",
    "\n",
    "They describe a novel learning approach to the weights of neural networks (referred to as neurone-like units). The procedure iteratively adjusts the weights of the connections in the network to minimize a measure between the output vector and a goal vector. They claim that these weight adjustments allow internal units (hidden layers) to represent important features of the \"task domain\". Furthermore \"regularities in the task are captured by the interactions of these units\". "
   ]
  },
  {
   "cell_type": "markdown",
   "metadata": {},
   "source": [
    "### The Goal\n",
    "\n",
    "The goal is a general learning algorithm for units that are not directly connected to either the input or the output. Perceptrons had a similar structure, however the weights of internal connections was entirely written by hand, so there was no learning on internal layers. This algorithm boils down to determining when internal neurons should activate in order to map input vectors to their correct output vectors. \n"
   ]
  },
  {
   "cell_type": "markdown",
   "metadata": {},
   "source": [
    "### The Network\n",
    "They then describe the simplest form of their procedure, which occurs on a network following these rules:  \n",
    "1) The network begins with an input layer\n",
    "2) The network end with an output layer\n",
    "3) The network contains 0 or more intermediate layers between the input layer and the output layer\n",
    "4) Connections between neurons must only be formed between neurons in different layers\n",
    "5) The input of each neuron is determined by $x_j = \\sum_i y_y w_{ji} + b$ where $x_i$ is the output of a neuron before $x$ with a connection to $x$, $w_ji$ is a learnable weight, and $b$ is a learnable bias.  \n",
    "6) The output of each neuron is determined by $y_j = \\frac{1}{1 + e^{-x_j}}$\n",
    "\n",
    "They then state that the exact functions in 5 and 6 can be edited, so long as the pair have a bounded derivative. They also state that a linear combination of inputs followed by a non-linear output greatly simplifies the learning procedure. A statement which holds true to today. "
   ]
  },
  {
   "cell_type": "markdown",
   "metadata": {},
   "source": [
    "### The error metric\n",
    "\n",
    "They define the goal of their algorithm is to minimize the following error function over a finite set of input-output cases. $$ E = \\frac{1}{2} \\sum_c \\sum_y (y_{j, c} - d_{j, c})^2$$  \n",
    "Were E is the total error, c is an index over the training set, y is the predicted output, and d is the desired output. "
   ]
  },
  {
   "cell_type": "markdown",
   "metadata": {},
   "source": [
    "### The Algorithm  \n",
    "\n",
    "The goal is to minimize E via gradient descent. To do so, they compute the partial derivative of E w.r.t. each of the learnable parameters of the network, with is equivalent to the sum of the partial derivatives for each of the input-output cases. Each derivative is computed in two steps. The forward pass is determined via the input-output rules specified above. The backward pass propagates derivatives from the output layer back to the input layer. \n",
    "\n",
    "#### The backward pass\n",
    "We will compute the partial derivative for a single input-output pair. \n",
    "1) Compute the partial derivative w.r.t. each of the neurons of the output layer \n",
    "   $$\\frac{\\partial E}{\\partial y_j} \\frac{1}{2} (y_j - d_j)^2 = (y_j - d_j)$$\n",
    "2) Apply the chain rule to compute the derivative w.r.t $x_j$, the input to $y_j$  \n",
    "    $$\\frac{\\partial E}{\\partial x_j} = \\frac{\\partial E}{\\partial y_j} \\cdot \\frac{\\partial y_j}{\\partial x_j} $$  \n",
    "    We can obtain $\\frac{\\partial y_j}{\\partial x_j}$ by taking the partial derivative of the output equation w.r.t. $x_j$\n",
    "    $$\\frac{\\partial y_j}{\\partial x_j} = y_j(1 - y_j)$$  \n",
    "3) This gives us the error with respect to the total input of the neuron, but the input is itself a linear function, so we can once again use the chain rule to get the derivative w.r.t. $w_{ji}$, which we can then adjust. \n",
    "    $$\\frac{\\partial E}{\\partial w_{ji}} = \\frac{\\partial E}{\\partial x_j} \\cdot \\frac{\\partial x_j}{\\partial w_{ji}} $$ \n",
    "    $$\\frac{\\partial x_j}{\\partial w_{ji}} = y_i$$  \n",
    "    Where $y_i$ is the output of a neuron a previous layer\n",
    "4) To get the partial w.r.t. the next layer, you use the following $$ \\frac{\\partial E}{\\partial y_i} = \\sum_j \\frac{\\partial E}{\\partial x_j} w_{ji}$$\n",
    "5) Repeating these steps allows you to step back one layer at a time until you reach the first weights in the network\n"
   ]
  },
  {
   "cell_type": "markdown",
   "metadata": {},
   "source": [
    "### Updating the weights\n",
    "Once the partial derivatives with respect to each weight are generated, you can update that weight $w$ such that $\\Delta w = \\epsilon \\frac{\\partial E}{\\partial w}$. Two strategies are noted in the paper. Updating after each input-output pair, and updating after all input-output pairs. Also noted is a modification where the gradient changes the velocity of the weight rather than the position in weight space. \n",
    "$$  \\Delta w = \\epsilon \\frac{\\partial E}{\\partial w(t)} + \\alpha \\frac{\\partial E}{\\partial w(t -1)}$$ \n",
    "t in this case increments each time all input-output pairs are iterated through, and $\\alpha$ is an exponential decay factor, changing how much earlier gradients affect the current one. "
   ]
  },
  {
   "cell_type": "markdown",
   "metadata": {},
   "source": [
    "### Conclusion \n",
    " They conclude with a couple of examples (see code), establishing that random weights should be used to initialize the network and pointing out a weakness in this approach. Gradient descent is prone to being caught in local minima, missing out on performance that would be achieved via the global minima. "
   ]
  },
  {
   "cell_type": "markdown",
   "metadata": {},
   "source": [
    "### Example problem  \n",
    "A vector of length 6 is classified as either being symmetric or asymmetric. The example given is a fully connected, feed forward network with 6 input neurons, 2 hidden neurons in one layer, and one output neuron. Neurons 1 - 6 are connected to neurons 7 and 8, which inturn connect to neuron 9, the output. "
   ]
  },
  {
   "cell_type": "code",
   "execution_count": 1,
   "metadata": {},
   "outputs": [],
   "source": [
    "import numpy as np\n",
    "\n",
    "from tqdm import tqdm\n",
    "\n",
    "np.random.seed(0)"
   ]
  },
  {
   "cell_type": "code",
   "execution_count": 2,
   "metadata": {},
   "outputs": [],
   "source": [
    "#define input and output functions \n",
    "def input(y_prev, ws, b):\n",
    "    \"\"\"Input function for a neuron\n",
    "\n",
    "    Args:\n",
    "        y_prev (np.array): array of outputs from previous layer\n",
    "        ws (np.array): array of weights \n",
    "        b (float): bias\n",
    "\n",
    "    Returns:\n",
    "        float: total input\n",
    "    \"\"\"\n",
    "    return y_prev @ ws + b\n",
    "def output(x):\n",
    "    \"\"\"Non-linear output function of a neuron\n",
    "\n",
    "    Args:\n",
    "        x (float): input value\n",
    "\n",
    "    Returns:\n",
    "        float: output value\n",
    "    \"\"\"\n",
    "    return 1/(1 + np.e**-x)"
   ]
  },
  {
   "cell_type": "code",
   "execution_count": 3,
   "metadata": {},
   "outputs": [],
   "source": [
    "class NN: \n",
    "    def __init__(self):\n",
    "        \"\"\"Initialize weights and biases based on paper's instructions\n",
    "        \"\"\"\n",
    "        self.weights = np.random.uniform(-.3, .3, 14)\n",
    "        self.biases = np.random.uniform(-.3, .3, 3)\n",
    "        self.last_delta_grads = np.zeros(14), np.zeros(3)\n",
    "\n",
    "    \n",
    "    def update_weights(self, weight_grad, bias_grad, e = .1, a= .9):\n",
    "        \"\"\"Update weights and biases based on batch gradient sums and eq. 9 from the paper\n",
    "\n",
    "        Args:\n",
    "            weight_grad (np.array): gradient batch sum for weights\n",
    "            bias_grad (np.array): gradient batch sum for biases\n",
    "            e (float, optional): gradient multiplier (learning rate). Defaults to .1.\n",
    "            a (float, optional): exponential decay factor. Defaults to .9.\n",
    "        \"\"\"\n",
    "        weight_del = e * weight_grad + a * self.last_delta_grads[0]\n",
    "        self.weights -= weight_del\n",
    "        bias_del = e * bias_grad + a * self.last_delta_grads[1]\n",
    "        self.biases -= bias_del\n",
    "        self.last_delta_grads = weight_del, bias_del\n",
    "\n",
    "    def forward(self, in_vec): \n",
    "        \"\"\"Forward pass of the neural network\n",
    "\n",
    "        Args:\n",
    "            in_vec (np.array): binary vector of length 6\n",
    "\n",
    "        Returns:\n",
    "            tuple: output values for neurons 6, 7, and 8. 8 is the final output of the network\n",
    "        \"\"\"\n",
    "        x_6 = input(in_vec, self.weights[:6], self.biases[0])\n",
    "        x_7 = input(in_vec, self.weights[6:12], self.biases[1])\n",
    "        y_6 = output(x_6)\n",
    "        y_7 = output(x_7)\n",
    "        x_8 = input(np.array((y_6, y_7)), self.weights[12:], self.biases[2])\n",
    "        y_8 = output(x_8)\n",
    "        return y_6, y_7, y_8\n",
    "     \n",
    "    def backward(self, in_vec, y_6, y_7, y_8, y_true):\n",
    "        \"\"\"Backpropagation for the neural net. \n",
    "\n",
    "        Args:\n",
    "            in_vec (np.array): Output of neurons 0-5\n",
    "            y_6 (float): Output of neuron 6\n",
    "            y_7 (float): Output of neuron 7\n",
    "            y_8 (float): Output of neuron 8\n",
    "            y_true (float): Ground truth value for input vector\n",
    "\n",
    "        Returns:\n",
    "            tuple: partial derivative w.r.t. each weight and each bias\n",
    "        \"\"\"\n",
    "        weight_partials = np.zeros(14)\n",
    "        bias_partials = np.zeros(3)\n",
    "\n",
    "        # Partials for neuron 8\n",
    "        partial_y_8 = y_8 - y_true\n",
    "        partial_x_8 = partial_y_8 * y_8 * (1 - y_8)\n",
    "\n",
    "        # partials for second layer of weights and biases\n",
    "        weight_partials[13] = partial_x_8 * y_7\n",
    "        weight_partials[12] = partial_x_8 * y_6\n",
    "        bias_partials[2] = partial_x_8\n",
    "\n",
    "        # Partials for neurons 6 and 7\n",
    "        partial_y_7 = partial_x_8 * self.weights[13]\n",
    "        partial_x_7 = partial_y_7 * y_7 * (1 - y_7)\n",
    "        partial_y_6 = partial_x_8 * self.weights[12]\n",
    "        partial_x_6 = partial_y_6 * (y_6) * (1 - y_6)\n",
    "\n",
    "        # Partials for first layer of weights and biases\n",
    "        weight_partials[6:12] = partial_x_7 * in_vec\n",
    "        bias_partials[1] = partial_x_7\n",
    "        weight_partials[:6] = partial_x_6 * in_vec\n",
    "        bias_partials[0] = partial_x_6\n",
    "\n",
    "        return weight_partials, bias_partials"
   ]
  },
  {
   "cell_type": "code",
   "execution_count": 4,
   "metadata": {},
   "outputs": [
    {
     "data": {
      "text/plain": [
       "np.float64(8.0)"
      ]
     },
     "execution_count": 4,
     "metadata": {},
     "output_type": "execute_result"
    }
   ],
   "source": [
    "import itertools\n",
    "\n",
    "# Generate dataset\n",
    "X = np.array(list(itertools.product([0, 1], repeat=6)))\n",
    "y = np.zeros((64, 1))\n",
    "\n",
    "for i, (in_vec) in enumerate(X):\n",
    "    if (in_vec[:3] == in_vec[::-1][:3]).all():\n",
    "        y[i] = 1\n",
    "\n",
    "np.sum(y)"
   ]
  },
  {
   "cell_type": "code",
   "execution_count": 5,
   "metadata": {},
   "outputs": [],
   "source": [
    "# Create an instance of our network\n",
    "net = NN()"
   ]
  },
  {
   "cell_type": "code",
   "execution_count": 6,
   "metadata": {},
   "outputs": [
    {
     "name": "stderr",
     "output_type": "stream",
     "text": [
      "  0%|          | 0/1000 [00:00<?, ?it/s]C:\\Users\\Micha\\AppData\\Local\\Temp\\ipykernel_28744\\340863302.py:17: DeprecationWarning: Conversion of an array with ndim > 0 to a scalar is deprecated, and will error in future. Ensure you extract a single element from your array before performing this operation. (Deprecated NumPy 1.25.)\n",
      "  epoch_correct += float(abs(y_8 - y[i]) < .2)\n",
      "C:\\Users\\Micha\\AppData\\Local\\Temp\\ipykernel_28744\\2741535366.py:63: DeprecationWarning: Conversion of an array with ndim > 0 to a scalar is deprecated, and will error in future. Ensure you extract a single element from your array before performing this operation. (Deprecated NumPy 1.25.)\n",
      "  weight_partials[13] = partial_x_8 * y_7\n",
      "C:\\Users\\Micha\\AppData\\Local\\Temp\\ipykernel_28744\\2741535366.py:64: DeprecationWarning: Conversion of an array with ndim > 0 to a scalar is deprecated, and will error in future. Ensure you extract a single element from your array before performing this operation. (Deprecated NumPy 1.25.)\n",
      "  weight_partials[12] = partial_x_8 * y_6\n",
      "C:\\Users\\Micha\\AppData\\Local\\Temp\\ipykernel_28744\\2741535366.py:65: DeprecationWarning: Conversion of an array with ndim > 0 to a scalar is deprecated, and will error in future. Ensure you extract a single element from your array before performing this operation. (Deprecated NumPy 1.25.)\n",
      "  bias_partials[2] = partial_x_8\n",
      "C:\\Users\\Micha\\AppData\\Local\\Temp\\ipykernel_28744\\2741535366.py:75: DeprecationWarning: Conversion of an array with ndim > 0 to a scalar is deprecated, and will error in future. Ensure you extract a single element from your array before performing this operation. (Deprecated NumPy 1.25.)\n",
      "  bias_partials[1] = partial_x_7\n",
      "C:\\Users\\Micha\\AppData\\Local\\Temp\\ipykernel_28744\\2741535366.py:77: DeprecationWarning: Conversion of an array with ndim > 0 to a scalar is deprecated, and will error in future. Ensure you extract a single element from your array before performing this operation. (Deprecated NumPy 1.25.)\n",
      "  bias_partials[0] = partial_x_6\n",
      " 85%|████████▍ | 846/1000 [00:01<00:00, 738.80it/s]\n"
     ]
    }
   ],
   "source": [
    "# Define the training loop\n",
    "# The paper states 1425 sweeps (epochs) needed to achieve a perfect score\n",
    "\n",
    "loss, accuracy = [], []\n",
    "for epoch in tqdm(range(1000)):\n",
    "    # Track cumulative error, correct guesses, weight gradient sum, batch gradient sum\n",
    "    epoch_error = 0\n",
    "    epoch_correct = 0\n",
    "    batch_weight = np.zeros(14)\n",
    "    batch_bias = np.zeros(3)\n",
    "\n",
    "    # Loop over 64 vectors in training set\n",
    "    for i, in_vec in enumerate(X):\n",
    "        y_6, y_7, y_8 = net.forward(in_vec)\n",
    "        \n",
    "        epoch_error += (y_8 - y[i]) ** 2\n",
    "        epoch_correct += float(abs(y_8 - y[i]) < .2)\n",
    "        \n",
    "        weight_p, bias_p = net.backward(in_vec, y_6, y_7, y_8, y[i])\n",
    "        \n",
    "        batch_weight += weight_p\n",
    "        batch_bias += bias_p\n",
    "\n",
    "    # Update weights and biases\n",
    "    net.update_weights(batch_weight, batch_bias)\n",
    "    # Track training metrics\n",
    "    loss.append(epoch_error/64)\n",
    "    accuracy.append(epoch_correct/64)\n",
    "    \n",
    "    if accuracy[-1] == 1:\n",
    "        break"
   ]
  },
  {
   "cell_type": "markdown",
   "metadata": {},
   "source": [
    "### Training breakdown\n",
    "\n",
    "The network took 846 sweeps to learn whether a length 6 vector was mirrored. I set the threshold for correct classification at .2. Another option would be to consider all predictions < .5 as 0 and >= .5 as 1. This would likely result in a shorter training time. Looking at the loss and accuracy below, the shape of each curve is contrary to what I have seen in the past. The accuracy dips late in training, before bouncing around and reaching 1. The loss looks more familiar, however it seems to bounce a bit before leveling off. This could be because of the exponential decay term in the optimizer. "
   ]
  },
  {
   "cell_type": "code",
   "execution_count": 7,
   "metadata": {},
   "outputs": [
    {
     "data": {
      "text/plain": [
       "<matplotlib.legend.Legend at 0x21389e5fd10>"
      ]
     },
     "execution_count": 7,
     "metadata": {},
     "output_type": "execute_result"
    },
    {
     "data": {
      "image/png": "[encoded data removed]",
      "text/plain": [
       "<Figure size 640x480 with 1 Axes>"
      ]
     },
     "metadata": {},
     "output_type": "display_data"
    }
   ],
   "source": [
    "import matplotlib.pyplot as plt\n",
    "\n",
    "plt.plot(accuracy, label = 'accuracy')\n",
    "plt.plot(loss, label = 'loss')\n",
    "plt.legend()"
   ]
  },
  {
   "cell_type": "code",
   "execution_count": 8,
   "metadata": {},
   "outputs": [
    {
     "data": {
      "text/plain": [
       "(array([-2.13520609,  4.23356045, -8.39599728,  8.3946728 , -4.2355389 ,\n",
       "         2.13277956]),\n",
       " array([ 2.1556448 , -4.27959344,  8.48300179, -8.48416879,  4.27795855,\n",
       "        -2.15733541]),\n",
       " array([-10.34858855, -10.31945361]),\n",
       " array([-1.78081604, -1.79780053,  4.36729403]))"
      ]
     },
     "execution_count": 8,
     "metadata": {},
     "output_type": "execute_result"
    }
   ],
   "source": [
    "net.weights[:6], net.weights[6:12], net.weights[12:], net.biases"
   ]
  }
 ],
 "metadata": {
  "kernelspec": {
   "display_name": "nlp",
   "language": "python",
   "name": "python3"
  },
  "language_info": {
   "codemirror_mode": {
    "name": "ipython",
    "version": 3
   },
   "file_extension": ".py",
   "mimetype": "text/x-python",
   "name": "python",
   "nbconvert_exporter": "python",
   "pygments_lexer": "ipython3",
   "version": "3.12.7"
  }
 },
 "nbformat": 4,
 "nbformat_minor": 2
}
