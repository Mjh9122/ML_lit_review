{
 "cells": [
  {
   "cell_type": "markdown",
   "metadata": {
    "colab_type": "text",
    "id": "view-in-github"
   },
   "source": [
    "<a href=\"https://colab.research.google.com/github/Mjh9122/ML_lit_review/blob/main/word2vec/word2vec.ipynb\" target=\"_parent\"><img src=\"https://colab.research.google.com/assets/colab-badge.svg\" alt=\"Open In Colab\"/></a>"
   ]
  },
  {
   "cell_type": "markdown",
   "metadata": {
    "id": "KQTGeqGJG75O"
   },
   "source": [
    "# Efficient Estimation of Word Representations in Vector Space\n",
    "## Authors: Tomas Mikolov, Kai Chen, Greg Corrado, Jeffrey Dean\n",
    "### Notes: Michael Holtz"
   ]
  },
  {
   "cell_type": "markdown",
   "metadata": {
    "id": "5tgwoMWcHkLN"
   },
   "source": [
    "### Abstract\n",
    "\n",
    "They describe two NN architectures for embedding words into vector spaces. The quality is measured via a \"word similarity task,\" and they find higher accuracy at much lower computational cost. Furthermore, the vectors produced provide state-of-the-art performance on a test set for syntactic and semantic word similarities."
   ]
  },
  {
   "cell_type": "markdown",
   "metadata": {
    "id": "YaN5LZiRInPM"
   },
   "source": [
    "### Intro\n",
    "\n",
    "Many previous NLP systems treat words as simply an element in a set of words, with no notion of similarity between words. These simple techniques have notable limits in many tasks. While trillions of words might be necessary to achieve performance with these simple methods, tasks such as automatic speech recognition or machine translation may have corpora with only millions or billions of words. In these scenarios, a more complex strategy is needed."
   ]
  },
  {
   "cell_type": "markdown",
   "metadata": {
    "id": "vNfnsdAMKEyM"
   },
   "source": [
    "### Paper Goals\n",
    "\n",
    "The goal is to create high-quality vector embeddings for millions of words from a billion+ word corpora. The expectation of the embedding is that similar words should be close to one another and that words can have multiple degrees of similarity (such as a similar ending). More surprising is that algebraic operations on these vectors hold their meaning. Ex. King - man + woman = queen. They also develop a test set for syntactic and semantic regularities and discuss how time and accuracy depend on embedding dimension.\n"
   ]
  },
  {
   "cell_type": "markdown",
   "metadata": {
    "id": "aV-9QV_pVdzK"
   },
   "source": []
  },
  {
   "cell_type": "markdown",
   "metadata": {
    "id": "XSCUS6fSREXK"
   },
   "source": [
    "### Previous work\n",
    "\n",
    "Previous attempts at word embeddings via a neural network language model. The first proposed models learned both a word vector representation and a statistical language model. Later architectures attempted to learn the embedding via a single hidden layer and then the vectors were used to train the NNLM. Other work also found that NLP tasks became easier when working with word vectors. The architecture in this paper seeks to find these vectors in a much more computationally efficient way."
   ]
  },
  {
   "cell_type": "markdown",
   "metadata": {
    "id": "M9Jr35UpTzyS"
   },
   "source": [
    "### NNLM Architectures\n",
    "\n",
    "#### Feedforward NNLM\n",
    "This model takes in N-words encoded in one-of-V coding. The input layer is then projected to a projection layer P. This layer is passed to a hidden layer, which in turn predicts a probability distribution over the 1xV output layer.\n",
    "\n",
    "#### Recurrent NNLM (RNNLM)\n",
    "This model removes the need to specify the context length for the input. The RNNLM removes the projection layer, consisting of only input, hidden, and output layers. It is a recurrent architecture becuase there are time delayed connections from the hidden layer to itself. These connection theoretically allow for short term memory, allowing past words to influence future predictions.\n"
   ]
  },
  {
   "cell_type": "markdown",
   "metadata": {
    "id": "lECIF9ipdl8x"
   },
   "source": [
    "### New log-linear models\n",
    "The main focus of the paper. New models are proposed which avoid the nonlinear nature of the neural nets above, allowing for much more efficient training. These new models can then be used to train the above architectures on a much smaller input dimension.\n",
    "\n",
    "#### CBOW\n",
    "Continous bag of words (CBOW) is similar to the feedforward model but there is no non-linear hidden layer. Instead the projection layer is shared for all words, and input contains words from the past as well as the future. The goal is to classify the word in the middle of the input."
   ]
  },
  {
   "cell_type": "markdown",
   "metadata": {},
   "source": [
    "#### Imports"
   ]
  },
  {
   "cell_type": "code",
   "execution_count": 232,
   "metadata": {
    "cellView": "form",
    "id": "p9alwnmwrIe_"
   },
   "outputs": [
    {
     "name": "stdout",
     "output_type": "stream",
     "text": [
      "Using: cuda\n"
     ]
    }
   ],
   "source": [
    "import torch\n",
    "import torch.nn as nn\n",
    "from nltk.tokenize import word_tokenize\n",
    "from collections import Counter\n",
    "\n",
    "from torch.utils.data import DataLoader, Dataset\n",
    "from tqdm import tqdm\n",
    "from sklearn.model_selection import train_test_split\n",
    "import matplotlib.pyplot as plt\n",
    "\n",
    "\n",
    "device = torch.device(\"cuda\" if torch.cuda.is_available() else \"cpu\")\n",
    "print(f'Using: {device}')"
   ]
  },
  {
   "cell_type": "markdown",
   "metadata": {},
   "source": [
    "#### Import corpus and build datasets"
   ]
  },
  {
   "cell_type": "code",
   "execution_count": 233,
   "metadata": {
    "id": "zA7ZxQ5cr5l_"
   },
   "outputs": [
    {
     "name": "stdout",
     "output_type": "stream",
     "text": [
      "tokenized\n",
      "removed non-alpha\n",
      "words counted\n",
      "infrequent filtered\n"
     ]
    }
   ],
   "source": [
    "with open('the_cat_in_the_hat.txt', 'r') as f:\n",
    "    text = f.read()\n",
    "tokens = word_tokenize(text)\n",
    "print(\"tokenized\")\n",
    "corpus = [word.lower()  for word in tokens if word.isalpha()][:10_000_000]\n",
    "print(\"removed non-alpha\")\n",
    "word_counts = Counter(corpus)\n",
    "print('words counted')\n",
    "corpus = [word if word_counts[word] >= 5 else 'UNK' for word in corpus]\n",
    "print('infrequent filtered')"
   ]
  },
  {
   "cell_type": "code",
   "execution_count": 234,
   "metadata": {
    "colab": {
     "base_uri": "https://localhost:8080/"
    },
    "id": "uYJcjQEMr0Bf",
    "outputId": "79ab11cc-cbef-4045-a9d5-3f369736baa9"
   },
   "outputs": [
    {
     "name": "stdout",
     "output_type": "stream",
     "text": [
      "vocab size: 89\n"
     ]
    },
    {
     "name": "stderr",
     "output_type": "stream",
     "text": [
      "100%|██████████| 1618/1618 [00:00<00:00, 539930.29it/s]\n",
      "100%|██████████| 1618/1618 [00:00<00:00, 320293.75it/s]"
     ]
    },
    {
     "name": "stdout",
     "output_type": "stream",
     "text": [
      "CBOW training length: torch.Size([1618, 8]) Skipgram training length: torch.Size([12944])\n"
     ]
    },
    {
     "name": "stderr",
     "output_type": "stream",
     "text": [
      "\n"
     ]
    }
   ],
   "source": [
    "# Create vocab\n",
    "vocab = set(corpus)\n",
    "vocab_size = len(vocab)\n",
    "print(f'vocab size: {vocab_size}')\n",
    "\n",
    "# To convert from word to embedding index\n",
    "word_to_ix = {word:ix for ix, word in enumerate(vocab)}\n",
    "ix_to_word = {ix:word for ix, word in enumerate(vocab)}\n",
    "\n",
    "# Create dataset by taking four words on either side of a target word\n",
    "context_length = 4\n",
    "contexts, targets = [], []\n",
    "\n",
    "for i in tqdm(range(context_length, len(corpus) - context_length)):\n",
    "    context = corpus[i - context_length: i] + corpus[i + 1 : i + context_length + 1]\n",
    "    target = corpus[i]\n",
    "    targets.append(target)\n",
    "    contexts.append(context)\n",
    "\n",
    "\n",
    "CBOW_Xs = torch.tensor([[word_to_ix[w] for w in x] for x in contexts])\n",
    "CBOW_ys = torch.tensor([word_to_ix[y] for y in targets])\n",
    "SKIP_Xs, SKIP_ys = [], []\n",
    "\n",
    "for context, target in tqdm(zip(contexts, targets), total = len(targets)):\n",
    "    for ctxt_word in context:\n",
    "        SKIP_Xs.append(word_to_ix[target])\n",
    "        SKIP_ys.append(word_to_ix[ctxt_word])\n",
    "\n",
    "SKIP_Xs = torch.tensor(SKIP_Xs)\n",
    "SKIP_ys = torch.tensor(SKIP_ys)\n",
    "\n",
    "print(f'CBOW training length: {CBOW_Xs.shape} Skipgram training length: {SKIP_ys.shape}')"
   ]
  },
  {
   "cell_type": "markdown",
   "metadata": {},
   "source": [
    "#### Define dataset class"
   ]
  },
  {
   "cell_type": "code",
   "execution_count": 235,
   "metadata": {
    "id": "Wah-YppZ8o53"
   },
   "outputs": [],
   "source": [
    "# Quick dataset class for dataloading\n",
    "class Simple_Dataset(Dataset):\n",
    "    def __init__(self, X, Y):\n",
    "        self.X = X\n",
    "        self.Y = Y\n",
    "\n",
    "    def __len__(self):\n",
    "        return len(self.X)\n",
    "\n",
    "    def __getitem__(self, idx):\n",
    "        return self.Y[idx],self.X[idx]"
   ]
  },
  {
   "cell_type": "markdown",
   "metadata": {},
   "source": [
    "#### Define CBOW and Skipgram classes"
   ]
  },
  {
   "cell_type": "code",
   "execution_count": 236,
   "metadata": {
    "id": "5chQGEj9rNUP"
   },
   "outputs": [],
   "source": [
    "# CBOW model proper. No non-linear activations like the paper says.\n",
    "class CBOW(nn.Module):\n",
    "    def __init__(self, vocab_size, embedding_dim):\n",
    "        super(CBOW, self).__init__()\n",
    "        self.embeddings = nn.Embedding(vocab_size, embedding_dim)\n",
    "        self.linear = nn.Linear(embedding_dim, vocab_size)\n",
    "        self.device = torch.device(\"cuda\" if torch.cuda.is_available() else \"cpu\")\n",
    "\n",
    "    def forward(self, inputs):\n",
    "        embeds = self.embeddings(inputs).sum(dim=1)\n",
    "        out = self.linear(embeds)\n",
    "        return out\n",
    "\n",
    "    def get_word_embedding(self, word):\n",
    "        word = torch.tensor(word_to_ix[word], device=self.device)\n",
    "        return self.embeddings(word).view(1,-1)"
   ]
  },
  {
   "cell_type": "code",
   "execution_count": 237,
   "metadata": {},
   "outputs": [],
   "source": [
    "# SKIPGRAM model. No non-linear activations. No negative sampling. \n",
    "class Skipgram(nn.Module):\n",
    "    def __init__(self, vocab_size, embedding_dim):\n",
    "        super(Skipgram, self).__init__()\n",
    "        self.embeddings = nn.Embedding(vocab_size, embedding_dim)\n",
    "        self.linear = nn.Linear(embedding_dim, vocab_size, bias=False)\n",
    "        self.device = torch.device(\"cuda\" if torch.cuda.is_available() else \"cpu\")\n",
    "\n",
    "    def forward(self, inputs):\n",
    "        embeds = self.embeddings(inputs)\n",
    "        out = self.linear(embeds)\n",
    "        return out\n",
    "\n",
    "    def get_word_embedding(self, word):\n",
    "        word = torch.tensor(word_to_ix[word])\n",
    "        return self.embeddings(word).view(1,-1)"
   ]
  },
  {
   "cell_type": "markdown",
   "metadata": {},
   "source": [
    "#### CBOW Training"
   ]
  },
  {
   "cell_type": "code",
   "execution_count": 238,
   "metadata": {},
   "outputs": [
    {
     "data": {
      "text/plain": [
       "(1456, 162)"
      ]
     },
     "execution_count": 238,
     "metadata": {},
     "output_type": "execute_result"
    }
   ],
   "source": [
    "# Create cbow instance, loss, optimizer, dataset, and dataloader\n",
    "batch_size = 256\n",
    "\n",
    "model = CBOW(vocab_size, 50)\n",
    "model.to(device)\n",
    "loss = nn.CrossEntropyLoss(reduction='sum')\n",
    "optim = torch.optim.Adam(model.parameters())\n",
    "\n",
    "X_train, X_test, y_train, y_test = train_test_split(CBOW_Xs, CBOW_ys, test_size = .1)\n",
    "trainset = Simple_Dataset(X_train, y_train)\n",
    "testset = Simple_Dataset(X_test, y_test)\n",
    "trainloader = DataLoader(trainset, batch_size=batch_size, shuffle=True)\n",
    "testloader = DataLoader(testset, batch_size=batch_size, shuffle=False)\n",
    "\n",
    "len(trainset), len(testset)"
   ]
  },
  {
   "cell_type": "code",
   "execution_count": 239,
   "metadata": {
    "colab": {
     "base_uri": "https://localhost:8080/"
    },
    "id": "AQ3UAOgIvkow",
    "outputId": "4f9c7579-d213-4a8f-ef0e-0b6eee68161c"
   },
   "outputs": [
    {
     "name": "stdout",
     "output_type": "stream",
     "text": [
      "Epoch: 99\n",
      "****************************************\n",
      "Train Loss: 1.8073727324768738\n",
      "Train Accuracy: 0.510989010989011\n",
      "Test Accuracy: 0.24691358024691357\n",
      "\n",
      "Epoch: 199\n",
      "****************************************\n",
      "Train Loss: 1.2139581952776228\n",
      "Train Accuracy: 0.6771978021978022\n",
      "Test Accuracy: 0.2222222222222222\n",
      "\n",
      "Epoch: 299\n",
      "****************************************\n",
      "Train Loss: 0.9020632754315386\n",
      "Train Accuracy: 0.7706043956043956\n",
      "Test Accuracy: 0.2222222222222222\n",
      "\n",
      "Epoch: 399\n",
      "****************************************\n",
      "Train Loss: 0.7137706463153546\n",
      "Train Accuracy: 0.8138736263736264\n",
      "Test Accuracy: 0.22839506172839505\n",
      "\n",
      "Epoch: 499\n",
      "****************************************\n",
      "Train Loss: 0.5893204814785129\n",
      "Train Accuracy: 0.853021978021978\n",
      "Test Accuracy: 0.22839506172839505\n",
      "\n",
      "Epoch: 599\n",
      "****************************************\n",
      "Train Loss: 0.5014680034511692\n",
      "Train Accuracy: 0.8722527472527473\n",
      "Test Accuracy: 0.22839506172839505\n",
      "\n",
      "Epoch: 699\n",
      "****************************************\n",
      "Train Loss: 0.4363008593464946\n",
      "Train Accuracy: 0.8928571428571429\n",
      "Test Accuracy: 0.21604938271604937\n",
      "\n",
      "Epoch: 799\n",
      "****************************************\n",
      "Train Loss: 0.3862142562866211\n",
      "Train Accuracy: 0.9038461538461539\n",
      "Test Accuracy: 0.20987654320987653\n",
      "\n",
      "Epoch: 899\n",
      "****************************************\n",
      "Train Loss: 0.34661672141525773\n",
      "Train Accuracy: 0.9114010989010989\n",
      "Test Accuracy: 0.20987654320987653\n",
      "\n",
      "Epoch: 999\n",
      "****************************************\n",
      "Train Loss: 0.3153776336502243\n",
      "Train Accuracy: 0.9189560439560439\n",
      "Test Accuracy: 0.20987654320987653\n",
      "\n"
     ]
    }
   ],
   "source": [
    "train_losses = []\n",
    "train_accuracies = []\n",
    "test_accuracies = []\n",
    "\n",
    "for epoch in range(1000):\n",
    "    train_correct = 0\n",
    "    train_loss = 0\n",
    "    test_correct = 0\n",
    "\n",
    "    model.train()\n",
    "    for labels, features in trainloader:\n",
    "        labels, features = labels.to(device), features.to(device)\n",
    "        optim.zero_grad()\n",
    "        y_pred = model(features)\n",
    "        l = loss(y_pred, labels)\n",
    "        l.backward()\n",
    "        optim.step()\n",
    "\n",
    "        preds = torch.argmax(y_pred, dim=1)\n",
    "        train_correct += (preds == labels).sum().item()\n",
    "        train_loss += l.item()\n",
    "    \n",
    "\n",
    "\n",
    "    model.eval()\n",
    "    with torch.no_grad():\n",
    "        for labels, features in testloader:\n",
    "            labels, features = labels.to(device), features.to(device)\n",
    "            y_pred = model(features)\n",
    "            preds = torch.argmax(y_pred, dim=1)\n",
    "            test_correct += (preds == labels).sum().item()\n",
    "\n",
    "    train_losses.append(train_loss/len(trainset))\n",
    "    train_accuracies.append(train_correct/len(trainset))\n",
    "    test_accuracies.append(test_correct/len(testset))\n",
    "\n",
    "    if epoch % 100 == 99:\n",
    "        print(f'Epoch: {epoch}')\n",
    "        print('*'*40)\n",
    "        print(f'Train Loss: {train_loss/len(trainset)}')\n",
    "        print(f'Train Accuracy: {train_correct/len(trainset)}')\n",
    "        print(f'Test Accuracy: {test_correct/len(testset)}')\n",
    "        print()\n",
    "    "
   ]
  },
  {
   "cell_type": "code",
   "execution_count": 240,
   "metadata": {},
   "outputs": [
    {
     "data": {
      "text/plain": [
       "<matplotlib.legend.Legend at 0x23ea16ffda0>"
      ]
     },
     "execution_count": 240,
     "metadata": {},
     "output_type": "execute_result"
    },
    {
     "data": {
      "image/png": "[encoded data removed]",
      "text/plain": [
       "<Figure size 1000x500 with 2 Axes>"
      ]
     },
     "metadata": {},
     "output_type": "display_data"
    }
   ],
   "source": [
    "fig, axs = plt.subplots(1, 2, figsize = (10, 5))\n",
    "axs[0].plot(train_losses, label = 'training loss')\n",
    "axs[0].legend()\n",
    "axs[1].plot(train_accuracies, label = 'training accuracy')\n",
    "axs[1].plot(test_accuracies, label = 'testing accuracy')\n",
    "axs[1].legend()"
   ]
  },
  {
   "cell_type": "markdown",
   "metadata": {},
   "source": [
    "#### Skipgram Training"
   ]
  },
  {
   "cell_type": "code",
   "execution_count": 241,
   "metadata": {},
   "outputs": [
    {
     "data": {
      "text/plain": [
       "(11649, 1295)"
      ]
     },
     "execution_count": 241,
     "metadata": {},
     "output_type": "execute_result"
    }
   ],
   "source": [
    "# Create Skipgram instance, loss, optimizer, dataset, and dataloader\n",
    "batch_size = 256\n",
    "\n",
    "model = Skipgram(vocab_size, 50)\n",
    "model.to(device)\n",
    "loss = nn.CrossEntropyLoss(reduction='sum')\n",
    "optim = torch.optim.Adam(model.parameters())\n",
    "\n",
    "X_train, X_test, y_train, y_test = train_test_split(SKIP_Xs, SKIP_ys, test_size = .1)\n",
    "trainset = Simple_Dataset(X_train, y_train)\n",
    "testset = Simple_Dataset(X_test, y_test)\n",
    "trainloader = DataLoader(trainset, batch_size=batch_size, shuffle=True)\n",
    "testloader = DataLoader(testset, batch_size=batch_size, shuffle=False)\n",
    "\n",
    "len(trainset), len(testset)"
   ]
  },
  {
   "cell_type": "code",
   "execution_count": 242,
   "metadata": {},
   "outputs": [
    {
     "name": "stdout",
     "output_type": "stream",
     "text": [
      "Epoch: 9\n",
      "****************************************\n",
      "Train Loss: 3.743088694639662\n",
      "Train Accuracy: 0.16988582710962313\n",
      "Test Accuracy: 0.18532818532818532\n",
      "\n",
      "Epoch: 19\n",
      "****************************************\n",
      "Train Loss: 3.5844403572354318\n",
      "Train Accuracy: 0.18842819126105245\n",
      "Test Accuracy: 0.19845559845559846\n",
      "\n",
      "Epoch: 29\n",
      "****************************************\n",
      "Train Loss: 3.5316738037297997\n",
      "Train Accuracy: 0.18902910121040434\n",
      "Test Accuracy: 0.2\n",
      "\n",
      "Epoch: 39\n",
      "****************************************\n",
      "Train Loss: 3.501731899411128\n",
      "Train Accuracy: 0.18894325693192549\n",
      "Test Accuracy: 0.20154440154440154\n",
      "\n",
      "Epoch: 49\n",
      "****************************************\n",
      "Train Loss: 3.481219282272251\n",
      "Train Accuracy: 0.1900592325521504\n",
      "Test Accuracy: 0.20154440154440154\n",
      "\n",
      "Epoch: 59\n",
      "****************************************\n",
      "Train Loss: 3.4661119834211562\n",
      "Train Accuracy: 0.18988754399519273\n",
      "Test Accuracy: 0.2030888030888031\n",
      "\n",
      "Epoch: 69\n",
      "****************************************\n",
      "Train Loss: 3.4548498863150137\n",
      "Train Accuracy: 0.19066014250150226\n",
      "Test Accuracy: 0.2023166023166023\n",
      "\n",
      "Epoch: 79\n",
      "****************************************\n",
      "Train Loss: 3.4448082015405697\n",
      "Train Accuracy: 0.19014507683062923\n",
      "Test Accuracy: 0.2030888030888031\n",
      "\n",
      "Epoch: 89\n",
      "****************************************\n",
      "Train Loss: 3.4368880451447015\n",
      "Train Accuracy: 0.19083183105845997\n",
      "Test Accuracy: 0.2030888030888031\n",
      "\n",
      "Epoch: 99\n",
      "****************************************\n",
      "Train Loss: 3.4300075874521823\n",
      "Train Accuracy: 0.19023092110910808\n",
      "Test Accuracy: 0.20077220077220076\n",
      "\n"
     ]
    }
   ],
   "source": [
    "train_losses = []\n",
    "train_accuracies = []\n",
    "test_accuracies = []\n",
    "\n",
    "for epoch in range(100):\n",
    "    train_correct = 0\n",
    "    train_loss = 0\n",
    "    test_correct = 0\n",
    "\n",
    "    model.train()\n",
    "    for labels, features in trainloader:\n",
    "        labels, features = labels.to(device), features.to(device)\n",
    "        optim.zero_grad()\n",
    "        y_pred = model(features)\n",
    "        l = loss(y_pred, labels)\n",
    "        l.backward()\n",
    "        optim.step()\n",
    "\n",
    "        preds = torch.argmax(y_pred, dim=1)\n",
    "        train_correct += (preds == labels).sum().item()\n",
    "        train_loss += l.item()\n",
    "    \n",
    "\n",
    "\n",
    "    model.eval()\n",
    "    with torch.no_grad():\n",
    "        for labels, features in testloader:\n",
    "            labels, features = labels.to(device), features.to(device)\n",
    "            y_pred = model(features)\n",
    "            preds = torch.argmax(y_pred, dim=1)\n",
    "            test_correct += (preds == labels).sum().item()\n",
    "\n",
    "    train_losses.append(train_loss/len(trainset))\n",
    "    train_accuracies.append(train_correct/len(trainset))\n",
    "    test_accuracies.append(test_correct/len(testset))\n",
    "\n",
    "    if epoch % 10 == 9:\n",
    "        print(f'Epoch: {epoch}')\n",
    "        print('*'*40)\n",
    "        print(f'Train Loss: {train_loss/len(trainset)}')\n",
    "        print(f'Train Accuracy: {train_correct/len(trainset)}')\n",
    "        print(f'Test Accuracy: {test_correct/len(testset)}')\n",
    "        print()"
   ]
  },
  {
   "cell_type": "code",
   "execution_count": null,
   "metadata": {},
   "outputs": [
    {
     "data": {
      "text/plain": [
       "<matplotlib.legend.Legend at 0x23e9df70830>"
      ]
     },
     "execution_count": 243,
     "metadata": {},
     "output_type": "execute_result"
    },
    {
     "data": {
      "image/png": "[encoded data removed]",
      "text/plain": [
       "<Figure size 1000x500 with 2 Axes>"
      ]
     },
     "metadata": {},
     "output_type": "display_data"
    }
   ],
   "source": [
    "fig, axs = plt.subplots(1, 2, figsize = (10, 5))\n",
    "axs[0].plot(train_losses, label = 'training loss')\n",
    "axs[0].legend()\n",
    "axs[1].plot(train_accuracies, label = 'training accuracy')\n",
    "axs[1].plot(test_accuracies, label = 'testing accuracy')\n",
    "axs[1].legend()"
   ]
  }
 ],
 "metadata": {
  "colab": {
   "authorship_tag": "ABX9TyPZ9cqSkiTx5OhJT13U+dq1",
   "include_colab_link": true,
   "provenance": []
  },
  "kernelspec": {
   "display_name": "nlp",
   "language": "python",
   "name": "python3"
  },
  "language_info": {
   "codemirror_mode": {
    "name": "ipython",
    "version": 3
   },
   "file_extension": ".py",
   "mimetype": "text/x-python",
   "name": "python",
   "nbconvert_exporter": "python",
   "pygments_lexer": "ipython3",
   "version": "3.13.0"
  }
 },
 "nbformat": 4,
 "nbformat_minor": 0
}
