{
  "nbformat": 4,
  "nbformat_minor": 0,
  "metadata": {
    "colab": {
      "provenance": [],
      "authorship_tag": "ABX9TyPZ9cqSkiTx5OhJT13U+dq1",
      "include_colab_link": true
    },
    "kernelspec": {
      "name": "python3",
      "display_name": "Python 3"
    },
    "language_info": {
      "name": "python"
    }
  },
  "cells": [
    {
      "cell_type": "markdown",
      "metadata": {
        "id": "view-in-github",
        "colab_type": "text"
      },
      "source": [
        "<a href=\"https://colab.research.google.com/github/Mjh9122/ML_lit_review/blob/main/word2vec/word2vec.ipynb\" target=\"_parent\"><img src=\"https://colab.research.google.com/assets/colab-badge.svg\" alt=\"Open In Colab\"/></a>"
      ]
    },
    {
      "cell_type": "markdown",
      "source": [
        "# Efficient Estimation of Word Representations in Vector Space\n",
        "## Authors: Tomas Mikolov, Kai Chen, Greg Corrado, Jeffrey Dean\n",
        "### Notes: Michael Holtz"
      ],
      "metadata": {
        "id": "KQTGeqGJG75O"
      }
    },
    {
      "cell_type": "markdown",
      "source": [
        "### Abstract\n",
        "\n",
        "They describe two NN architectures for embedding words into vector spaces. The quality is measured via a \"word similarity task,\" and they find higher accuracy at much lower computational cost. Furthermore, the vectors produced provide state-of-the-art performance on a test set for syntactic and semantic word similarities."
      ],
      "metadata": {
        "id": "5tgwoMWcHkLN"
      }
    },
    {
      "cell_type": "markdown",
      "source": [
        "### Intro\n",
        "\n",
        "Many previous NLP systems treat words as simply an element in a set of words, with no notion of similarity between words. These simple techniques have notable limits in many tasks. While trillions of words might be necessary to achieve performance with these simple methods, tasks such as automatic speech recognition or machine translation may have corpora with only millions or billions of words. In these scenarios, a more complex strategy is needed."
      ],
      "metadata": {
        "id": "YaN5LZiRInPM"
      }
    },
    {
      "cell_type": "markdown",
      "source": [
        "### Paper Goals\n",
        "\n",
        "The goal is to create high-quality vector embeddings for millions of words from a billion+ word corpora. The expectation of the embedding is that similar words should be close to one another and that words can have multiple degrees of similarity (such as a similar ending). More surprising is that algebraic operations on these vectors hold their meaning. Ex. King - man + woman = queen. They also develop a test set for syntactic and semantic regularities and discuss how time and accuracy depend on embedding dimension.\n"
      ],
      "metadata": {
        "id": "vNfnsdAMKEyM"
      }
    },
    {
      "cell_type": "markdown",
      "source": [],
      "metadata": {
        "id": "aV-9QV_pVdzK"
      }
    },
    {
      "cell_type": "markdown",
      "source": [
        "### Previous work\n",
        "\n",
        "Previous attempts at word embeddings via a neural network language model. The first proposed models learned both a word vector representation and a statistical language model. Later architectures attempted to learn the embedding via a single hidden layer and then the vectors were used to train the NNLM. Other work also found that NLP tasks became easier when working with word vectors. The architecture in this paper seeks to find these vectors in a much more computationally efficient way."
      ],
      "metadata": {
        "id": "XSCUS6fSREXK"
      }
    },
    {
      "cell_type": "markdown",
      "source": [
        "### NNLM Architectures\n",
        "\n",
        "#### Feedforward NNLM\n",
        "This model takes in N-words encoded in one-of-V coding. The input layer is then projected to a projection layer P. This layer is passed to a hidden layer, which in turn predicts a probability distribution over the 1xV output layer.\n",
        "\n",
        "#### Recurrent NNLM (RNNLM)\n",
        "This model removes the need to specify the context length for the input. The RNNLM removes the projection layer, consisting of only input, hidden, and output layers. It is a recurrent architecture becuase there are time delayed connections from the hidden layer to itself. These connection theoretically allow for short term memory, allowing past words to influence future predictions.\n"
      ],
      "metadata": {
        "id": "M9Jr35UpTzyS"
      }
    },
    {
      "cell_type": "markdown",
      "source": [
        "### New log-linear models\n",
        "The main focus of the paper. New models are proposed which avoid the nonlinear nature of the neural nets above, allowing for much more efficient training. These new models can then be used to train the above architectures on a much smaller input dimension.\n",
        "\n",
        "#### CBOW\n",
        "Continous bag of words (CBOW) is similar to the feedforward model but there is no non-linear hidden layer. Instead the projection layer is shared for all words, and input contains words from the past as well as the future. The goal is to classify the word in the middle of the input."
      ],
      "metadata": {
        "id": "lECIF9ipdl8x"
      }
    },
    {
      "cell_type": "code",
      "source": [
        "# @title Imports\n",
        "import torch\n",
        "import torch.nn as nn\n",
        "\n",
        "import random\n",
        "import re\n",
        "\n",
        "from tqdm import tqdm\n",
        "from torch.utils.data import DataLoader, Dataset"
      ],
      "metadata": {
        "cellView": "form",
        "id": "p9alwnmwrIe_"
      },
      "execution_count": 2,
      "outputs": []
    },
    {
      "cell_type": "code",
      "source": [
        "# @title Corpus\n",
        "\n",
        "with open('the_cat_in_the_hat.txt', 'r') as f:\n",
        "    corpus = f.read()\n",
        "\n",
        "corpus_filtered = re.sub('[^A-Za-z0-9 ]+', \" \", corpus)\n",
        "corpus = corpus_filtered.lower().split()"
      ],
      "metadata": {
        "id": "zA7ZxQ5cr5l_"
      },
      "execution_count": 3,
      "outputs": []
    },
    {
      "cell_type": "code",
      "source": [
        "# Create vocab\n",
        "vocab = set(corpus)\n",
        "vocab_size = len(vocab)\n",
        "print(f'vocab size: {vocab_size}')\n",
        "\n",
        "# To convert from word to embedding index\n",
        "word_to_ix = {word:ix for ix, word in enumerate(vocab)}\n",
        "ix_to_word = {ix:word for ix, word in enumerate(vocab)}\n",
        "\n",
        "# Create dataset by taking four words on either side of a target word\n",
        "context_length = 4\n",
        "\n",
        "Xs = []\n",
        "ys = []\n",
        "for i in range(context_length, len(corpus) - context_length):\n",
        "    context = corpus[i - context_length: i] + corpus[i + 1 : i + context_length + 1]\n",
        "    target = corpus[i]\n",
        "    Xs.append(context)\n",
        "    ys.append(target)\n",
        "\n",
        "Xs_t = [torch.tensor([word_to_ix[w] for w in x]) for x in Xs]\n",
        "ys_t = [torch.tensor([word_to_ix[y]]) for y in ys]"
      ],
      "metadata": {
        "colab": {
          "base_uri": "https://localhost:8080/"
        },
        "id": "uYJcjQEMr0Bf",
        "outputId": "79ab11cc-cbef-4045-a9d5-3f369736baa9"
      },
      "execution_count": 4,
      "outputs": [
        {
          "output_type": "stream",
          "name": "stdout",
          "text": [
            "vocab size: 242\n"
          ]
        }
      ]
    },
    {
      "cell_type": "code",
      "source": [
        "# Quick dataset class for dataloading\n",
        "class CBOW_Dataset(Dataset):\n",
        "    def __init__(self, X, Y):\n",
        "        self.X = X\n",
        "        self.Y = Y\n",
        "\n",
        "    def __len__(self):\n",
        "        return len(self.X)\n",
        "\n",
        "    def __getitem__(self, idx):\n",
        "        return self.Y[idx],self.X[idx]"
      ],
      "metadata": {
        "id": "Wah-YppZ8o53"
      },
      "execution_count": 5,
      "outputs": []
    },
    {
      "cell_type": "code",
      "source": [
        "# CBOW model proper. No non-linear activations like the paper says.\n",
        "class CBOW(nn.Module):\n",
        "    def __init__(self, vocab_size, embedding_dim):\n",
        "        super(CBOW, self).__init__()\n",
        "        self.embeddings = nn.Embedding(vocab_size, embedding_dim)\n",
        "        self.linear = nn.Linear(embedding_dim, vocab_size)\n",
        "        self.softmax = nn.LogSoftmax(dim = -1)\n",
        "\n",
        "    def forward(self, inputs):\n",
        "        embeds = self.embeddings(inputs).sum(dim=1)\n",
        "        out = self.linear(embeds)\n",
        "        return self.softmax(out)\n",
        "\n",
        "    def get_word_emdedding(self, word):\n",
        "        word = torch.tensor(word_to_ix[word])\n",
        "        return self.embeddings(word).view(1,-1)"
      ],
      "metadata": {
        "id": "5chQGEj9rNUP"
      },
      "execution_count": 6,
      "outputs": []
    },
    {
      "cell_type": "code",
      "source": [
        "# Create model instance, loss, optimizer, dataset, and dataloader\n",
        "model = CBOW(vocab_size, 64)\n",
        "loss_function = nn.NLLLoss()\n",
        "optim = torch.optim.SGD(model.parameters(), lr=0.1)\n",
        "\n",
        "dataset = CBOW_Dataset(Xs_t, ys_t)\n",
        "dataloader = torch.utils.data.DataLoader(dataset, batch_size=256, shuffle=True)\n",
        "\n",
        "# training loop\n",
        "for epoch in range(1000):\n",
        "    epoch_loss = 0\n",
        "    iters = 0\n",
        "    correct = 0\n",
        "\n",
        "    for labels, features in dataloader:\n",
        "        optim.zero_grad()\n",
        "        y_pred = model(features)\n",
        "        correct += sum(torch.argmax(y_pred, dim=1) == labels.squeeze())\n",
        "        loss = loss_function(y_pred, labels.squeeze())\n",
        "        loss.backward()\n",
        "        optim.step()\n",
        "        epoch_loss += loss\n",
        "        iters += 1\n",
        "\n",
        "    if not epoch % 50:\n",
        "        print(f'Epoch: {epoch}, Loss {epoch_loss.item()/iters}, Accuracy: {correct/len(Xs_t)}, Incorrect classifications: {(len(Xs_t) - correct)}/{len(Xs_t)}')\n"
      ],
      "metadata": {
        "colab": {
          "base_uri": "https://localhost:8080/"
        },
        "id": "AQ3UAOgIvkow",
        "outputId": "4f9c7579-d213-4a8f-ef0e-0b6eee68161c"
      },
      "execution_count": 7,
      "outputs": [
        {
          "output_type": "stream",
          "name": "stdout",
          "text": [
            "Epoch: 0, Loss 6.701642172677176, Accuracy: 0.008604793809354305, Incorrect classifications: 1613/1627\n",
            "Epoch: 50, Loss 1.812006950378418, Accuracy: 0.5593116283416748, Incorrect classifications: 717/1627\n",
            "Epoch: 100, Loss 1.2536566598074776, Accuracy: 0.7264904975891113, Incorrect classifications: 445/1627\n",
            "Epoch: 150, Loss 0.9464400155203683, Accuracy: 0.8063921332359314, Incorrect classifications: 315/1627\n",
            "Epoch: 200, Loss 0.7584351812090192, Accuracy: 0.8709281086921692, Incorrect classifications: 210/1627\n",
            "Epoch: 250, Loss 0.6023101806640625, Accuracy: 0.8973571062088013, Incorrect classifications: 167/1627\n",
            "Epoch: 300, Loss 0.5149840627397809, Accuracy: 0.925015389919281, Incorrect classifications: 122/1627\n",
            "Epoch: 350, Loss 0.40927726881844656, Accuracy: 0.9446834921836853, Incorrect classifications: 90/1627\n",
            "Epoch: 400, Loss 0.35207765442984446, Accuracy: 0.9594345688819885, Incorrect classifications: 66/1627\n",
            "Epoch: 450, Loss 0.28885459899902344, Accuracy: 0.9686539769172668, Incorrect classifications: 51/1627\n",
            "Epoch: 500, Loss 0.24590975897652761, Accuracy: 0.9766441583633423, Incorrect classifications: 38/1627\n",
            "Epoch: 550, Loss 0.2151308229991368, Accuracy: 0.9870927929878235, Incorrect classifications: 21/1627\n",
            "Epoch: 600, Loss 0.18551509720938547, Accuracy: 0.9913952350616455, Incorrect classifications: 14/1627\n",
            "Epoch: 650, Loss 0.15727550642830984, Accuracy: 0.9932391047477722, Incorrect classifications: 11/1627\n",
            "Epoch: 700, Loss 0.13929879665374756, Accuracy: 0.9956976175308228, Incorrect classifications: 7/1627\n",
            "Epoch: 750, Loss 0.1259355800492423, Accuracy: 0.9975414872169495, Incorrect classifications: 4/1627\n",
            "Epoch: 800, Loss 0.11210909911564418, Accuracy: 0.9975414872169495, Incorrect classifications: 4/1627\n",
            "Epoch: 850, Loss 0.10221844911575317, Accuracy: 0.9987707734107971, Incorrect classifications: 2/1627\n",
            "Epoch: 900, Loss 0.0933390770639692, Accuracy: 0.9993853569030762, Incorrect classifications: 1/1627\n",
            "Epoch: 950, Loss 0.08303971801485334, Accuracy: 0.9993853569030762, Incorrect classifications: 1/1627\n"
          ]
        }
      ]
    },
    {
      "cell_type": "code",
      "source": [
        "# Test the model on a sample sentance from the text\n",
        "test = 'and then something went bump how that made us'\n",
        "test = test.lower().split()\n",
        "context = test[:4] + test[5:]\n",
        "target = test[4]\n",
        "\n",
        "test_vec = torch.tensor([word_to_ix[w] for w in context]).unsqueeze(0)\n",
        "log_probs = model(test_vec)\n",
        "pred = ix_to_word[torch.argmax(log_probs).item()]\n",
        "\n",
        "print(f'Test context: {context}')\n",
        "print(f'Test target: {target}')\n",
        "print(f'Test prediction: {pred}')"
      ],
      "metadata": {
        "colab": {
          "base_uri": "https://localhost:8080/"
        },
        "id": "rs6RkziFwxsA",
        "outputId": "5e8f488a-0558-4d9e-c1db-af59df8b5e70"
      },
      "execution_count": null,
      "outputs": [
        {
          "output_type": "stream",
          "name": "stdout",
          "text": [
            "Test context: ['and', 'then', 'something', 'went', 'how', 'that', 'made', 'us']\n",
            "Test target: bump\n",
            "Test prediction: bump\n"
          ]
        }
      ]
    }
  ]
}