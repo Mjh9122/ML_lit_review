{
  "cells": [
    {
      "cell_type": "markdown",
      "metadata": {
        "id": "KQTGeqGJG75O"
      },
      "source": [
        "# Efficient Estimation of Word Representations in Vector Space\n",
        "## Authors: Tomas Mikolov, Kai Chen, Greg Corrado, Jeffrey Dean\n",
        "### Notes: Michael Holtz"
      ]
    },
    {
      "cell_type": "markdown",
      "metadata": {
        "id": "5tgwoMWcHkLN"
      },
      "source": [
        "### Abstract\n",
        "\n",
        "They describe two NN architectures for embedding words into vector spaces. The quality is measured via a \"word similarity task,\" and they find higher accuracy at much lower computational cost. Furthermore, the vectors produced provide state-of-the-art performance on a test set for syntactic and semantic word similarities."
      ]
    },
    {
      "cell_type": "markdown",
      "metadata": {
        "id": "YaN5LZiRInPM"
      },
      "source": [
        "### Intro\n",
        "\n",
        "Many previous NLP systems treat words as simply an element in a set of words, with no notion of similarity between words. These simple techniques have notable limits in many tasks. While trillions of words might be necessary to achieve performance with these simple methods, tasks such as automatic speech recognition or machine translation may have corpora with only millions or billions of words. In these scenarios, a more complex strategy is needed."
      ]
    },
    {
      "cell_type": "markdown",
      "metadata": {
        "id": "vNfnsdAMKEyM"
      },
      "source": [
        "### Paper Goals\n",
        "\n",
        "The goal is to create high-quality vector embeddings for millions of words from a billion+ word corpora. The expectation of the embedding is that similar words should be close to one another and that words can have multiple degrees of similarity (such as a similar ending). More surprising is that algebraic operations on these vectors hold their meaning. Ex. King - man + woman = queen. They also develop a test set for syntactic and semantic regularities and discuss how time and accuracy depend on embedding dimension.\n"
      ]
    },
    {
      "cell_type": "markdown",
      "metadata": {
        "id": "aV-9QV_pVdzK"
      },
      "source": []
    },
    {
      "cell_type": "markdown",
      "metadata": {
        "id": "XSCUS6fSREXK"
      },
      "source": [
        "### Previous work\n",
        "\n",
        "Previous attempts at word embeddings via a neural network language model. The first proposed models learned both a word vector representation and a statistical language model. Later architectures attempted to learn the embedding via a single hidden layer and then the vectors were used to train the NNLM. Other work also found that NLP tasks became easier when working with word vectors. The architecture in this paper seeks to find these vectors in a much more computationally efficient way."
      ]
    },
    {
      "cell_type": "markdown",
      "metadata": {
        "id": "M9Jr35UpTzyS"
      },
      "source": [
        "### NNLM Architectures\n",
        "\n",
        "#### Feedforward NNLM\n",
        "This model takes in N-words encoded in one-of-V coding. The input layer is then projected to a projection layer P. This layer is passed to a hidden layer, which in turn predicts a probability distribution over the 1xV output layer.\n",
        "\n",
        "#### Recurrent NNLM (RNNLM)\n",
        "This model removes the need to specify the context length for the input. The RNNLM removes the projection layer, consisting of only input, hidden, and output layers. It is a recurrent architecture becuase there are time delayed connections from the hidden layer to itself. These connection theoretically allow for short term memory, allowing past words to influence future predictions.\n"
      ]
    },
    {
      "cell_type": "markdown",
      "metadata": {
        "id": "lECIF9ipdl8x"
      },
      "source": [
        "### New log-linear models\n",
        "The main focus of the paper. New models are proposed which avoid the nonlinear nature of the neural nets above, allowing for much more efficient training. These new models can then be used to train the above architectures on a much smaller input dimension.\n",
        "\n",
        "#### CBOW\n",
        "Continous bag of words (CBOW) is similar to the feedforward model but there is no non-linear hidden layer. Instead the projection layer is shared for all words, and input contains words from the past as well as the future. The goal is to classify the word in the middle of the input.\n",
        "\n",
        "#### Continous Skipgram\n",
        "\n",
        "Continous Skipgram is the reverse of the CBOW model. It takes the target word and tries to predict the context words surrounding it. There is still an embedding layer followed by a fully connected layer without a non-linear activation function."
      ]
    },
    {
      "cell_type": "markdown",
      "source": [
        "### Results\n",
        "\n",
        "In order to evaluate the quality of a word embedding, the authers use algebra on the vectors to mimic syntactic and semantic relationships between words. For example king - man + woman = queen. They trained on the google news corpus with about 6 billion tokens and limited the words learned to the most frequent 1 million. They compare results between RNNLM, NNLM, CBOW, and Skipgram models both CBOW and SKipgram perform better than the previous state of the art."
      ],
      "metadata": {
        "id": "K9b5Da3u21x3"
      }
    },
    {
      "cell_type": "markdown",
      "metadata": {
        "id": "PAJm0jZK1h54"
      },
      "source": [
        "#### Imports"
      ]
    },
    {
      "cell_type": "code",
      "execution_count": 16,
      "metadata": {
        "cellView": "form",
        "id": "p9alwnmwrIe_",
        "outputId": "d5087416-0ce0-4090-cdef-e8cfbd108d3c",
        "colab": {
          "base_uri": "https://localhost:8080/"
        }
      },
      "outputs": [
        {
          "output_type": "stream",
          "name": "stdout",
          "text": [
            "Using: cuda\n"
          ]
        },
        {
          "output_type": "stream",
          "name": "stderr",
          "text": [
            "[nltk_data] Downloading package punkt_tab to /root/nltk_data...\n",
            "[nltk_data]   Package punkt_tab is already up-to-date!\n"
          ]
        }
      ],
      "source": [
        "import torch\n",
        "import torch.nn as nn\n",
        "from nltk.tokenize import word_tokenize\n",
        "from collections import Counter\n",
        "\n",
        "from torch.utils.data import DataLoader, Dataset\n",
        "from tqdm import tqdm\n",
        "from sklearn.model_selection import train_test_split\n",
        "import matplotlib.pyplot as plt\n",
        "\n",
        "import nltk\n",
        "nltk.download('punkt_tab')\n",
        "\n",
        "device = torch.device(\"cuda\" if torch.cuda.is_available() else \"cpu\")\n",
        "print(f'Using: {device}')"
      ]
    },
    {
      "cell_type": "markdown",
      "metadata": {
        "id": "M6DjhObo1h55"
      },
      "source": [
        "#### Import corpus and build datasets"
      ]
    },
    {
      "cell_type": "code",
      "execution_count": 17,
      "metadata": {
        "id": "zA7ZxQ5cr5l_",
        "outputId": "b894eee6-6791-44ca-a01f-736ef9daf61b",
        "colab": {
          "base_uri": "https://localhost:8080/"
        }
      },
      "outputs": [
        {
          "output_type": "stream",
          "name": "stdout",
          "text": [
            "tokenized\n",
            "removed non-alpha\n",
            "words counted\n",
            "infrequent filtered\n"
          ]
        }
      ],
      "source": [
        "with open('the_cat_in_the_hat.txt', 'r') as f:\n",
        "    text = f.read()\n",
        "tokens = word_tokenize(text)\n",
        "print(\"tokenized\")\n",
        "corpus = [word.lower()  for word in tokens if word.isalpha()][:10_000_000]\n",
        "print(\"removed non-alpha\")\n",
        "word_counts = Counter(corpus)\n",
        "print('words counted')\n",
        "corpus = [word if word_counts[word] >= 5 else 'UNK' for word in corpus]\n",
        "print('infrequent filtered')"
      ]
    },
    {
      "cell_type": "code",
      "execution_count": 18,
      "metadata": {
        "colab": {
          "base_uri": "https://localhost:8080/"
        },
        "id": "uYJcjQEMr0Bf",
        "outputId": "2c51c9f0-2a16-46c0-f878-262129b4bdcb"
      },
      "outputs": [
        {
          "output_type": "stream",
          "name": "stdout",
          "text": [
            "vocab size: 89\n"
          ]
        },
        {
          "output_type": "stream",
          "name": "stderr",
          "text": [
            "100%|██████████| 1618/1618 [00:00<00:00, 461784.42it/s]\n",
            "100%|██████████| 1618/1618 [00:00<00:00, 371510.59it/s]"
          ]
        },
        {
          "output_type": "stream",
          "name": "stdout",
          "text": [
            "CBOW training length: torch.Size([1618, 8]) Skipgram training length: torch.Size([12944])\n"
          ]
        },
        {
          "output_type": "stream",
          "name": "stderr",
          "text": [
            "\n"
          ]
        }
      ],
      "source": [
        "# Create vocab\n",
        "vocab = set(corpus)\n",
        "vocab_size = len(vocab)\n",
        "print(f'vocab size: {vocab_size}')\n",
        "\n",
        "# To convert from word to embedding index\n",
        "word_to_ix = {word:ix for ix, word in enumerate(vocab)}\n",
        "ix_to_word = {ix:word for ix, word in enumerate(vocab)}\n",
        "\n",
        "# Create dataset by taking four words on either side of a target word\n",
        "context_length = 4\n",
        "contexts, targets = [], []\n",
        "\n",
        "for i in tqdm(range(context_length, len(corpus) - context_length)):\n",
        "    context = corpus[i - context_length: i] + corpus[i + 1 : i + context_length + 1]\n",
        "    target = corpus[i]\n",
        "    targets.append(target)\n",
        "    contexts.append(context)\n",
        "\n",
        "\n",
        "CBOW_Xs = torch.tensor([[word_to_ix[w] for w in x] for x in contexts])\n",
        "CBOW_ys = torch.tensor([word_to_ix[y] for y in targets])\n",
        "SKIP_Xs, SKIP_ys = [], []\n",
        "\n",
        "for context, target in tqdm(zip(contexts, targets), total = len(targets)):\n",
        "    for ctxt_word in context:\n",
        "        SKIP_Xs.append(word_to_ix[target])\n",
        "        SKIP_ys.append(word_to_ix[ctxt_word])\n",
        "\n",
        "SKIP_Xs = torch.tensor(SKIP_Xs)\n",
        "SKIP_ys = torch.tensor(SKIP_ys)\n",
        "\n",
        "print(f'CBOW training length: {CBOW_Xs.shape} Skipgram training length: {SKIP_ys.shape}')"
      ]
    },
    {
      "cell_type": "markdown",
      "metadata": {
        "id": "5hgUN-d-1h56"
      },
      "source": [
        "#### Define dataset class"
      ]
    },
    {
      "cell_type": "code",
      "execution_count": 19,
      "metadata": {
        "id": "Wah-YppZ8o53"
      },
      "outputs": [],
      "source": [
        "# Quick dataset class for dataloading\n",
        "class Simple_Dataset(Dataset):\n",
        "    def __init__(self, X, Y):\n",
        "        self.X = X\n",
        "        self.Y = Y\n",
        "\n",
        "    def __len__(self):\n",
        "        return len(self.X)\n",
        "\n",
        "    def __getitem__(self, idx):\n",
        "        return self.Y[idx],self.X[idx]"
      ]
    },
    {
      "cell_type": "markdown",
      "metadata": {
        "id": "52K_ABlc1h57"
      },
      "source": [
        "#### Define CBOW and Skipgram classes"
      ]
    },
    {
      "cell_type": "code",
      "execution_count": 20,
      "metadata": {
        "id": "5chQGEj9rNUP"
      },
      "outputs": [],
      "source": [
        "# CBOW model proper. No non-linear activations like the paper says.\n",
        "class CBOW(nn.Module):\n",
        "    def __init__(self, vocab_size, embedding_dim):\n",
        "        super(CBOW, self).__init__()\n",
        "        self.embeddings = nn.Embedding(vocab_size, embedding_dim)\n",
        "        self.linear = nn.Linear(embedding_dim, vocab_size)\n",
        "        self.device = torch.device(\"cuda\" if torch.cuda.is_available() else \"cpu\")\n",
        "\n",
        "    def forward(self, inputs):\n",
        "        embeds = self.embeddings(inputs).sum(dim=1)\n",
        "        out = self.linear(embeds)\n",
        "        return out\n",
        "\n",
        "    def get_word_embedding(self, word):\n",
        "        word = torch.tensor(word_to_ix[word], device=self.device)\n",
        "        return self.embeddings(word).view(1,-1)"
      ]
    },
    {
      "cell_type": "code",
      "execution_count": 21,
      "metadata": {
        "id": "mOZRE4So1h57"
      },
      "outputs": [],
      "source": [
        "# SKIPGRAM model. No non-linear activations. No negative sampling.\n",
        "class Skipgram(nn.Module):\n",
        "    def __init__(self, vocab_size, embedding_dim):\n",
        "        super(Skipgram, self).__init__()\n",
        "        self.embeddings = nn.Embedding(vocab_size, embedding_dim)\n",
        "        self.linear = nn.Linear(embedding_dim, vocab_size, bias=False)\n",
        "        self.device = torch.device(\"cuda\" if torch.cuda.is_available() else \"cpu\")\n",
        "\n",
        "    def forward(self, inputs):\n",
        "        embeds = self.embeddings(inputs)\n",
        "        out = self.linear(embeds)\n",
        "        return out\n",
        "\n",
        "    def get_word_embedding(self, word):\n",
        "        word = torch.tensor(word_to_ix[word])\n",
        "        return self.embeddings(word).view(1,-1)"
      ]
    },
    {
      "cell_type": "markdown",
      "metadata": {
        "id": "l_wEkNEs1h57"
      },
      "source": [
        "#### CBOW Training"
      ]
    },
    {
      "cell_type": "code",
      "execution_count": 22,
      "metadata": {
        "id": "89I1HL6s1h57",
        "outputId": "6b745373-0b7f-4f12-bc03-487c2ff0e28e",
        "colab": {
          "base_uri": "https://localhost:8080/"
        }
      },
      "outputs": [
        {
          "output_type": "execute_result",
          "data": {
            "text/plain": [
              "(1456, 162)"
            ]
          },
          "metadata": {},
          "execution_count": 22
        }
      ],
      "source": [
        "# Create cbow instance, loss, optimizer, dataset, and dataloader\n",
        "batch_size = 256\n",
        "\n",
        "model = CBOW(vocab_size, 50)\n",
        "model.to(device)\n",
        "loss = nn.CrossEntropyLoss(reduction='sum')\n",
        "optim = torch.optim.Adam(model.parameters())\n",
        "\n",
        "X_train, X_test, y_train, y_test = train_test_split(CBOW_Xs, CBOW_ys, test_size = .1)\n",
        "trainset = Simple_Dataset(X_train, y_train)\n",
        "testset = Simple_Dataset(X_test, y_test)\n",
        "trainloader = DataLoader(trainset, batch_size=batch_size, shuffle=True)\n",
        "testloader = DataLoader(testset, batch_size=batch_size, shuffle=False)\n",
        "\n",
        "len(trainset), len(testset)"
      ]
    },
    {
      "cell_type": "code",
      "execution_count": 23,
      "metadata": {
        "colab": {
          "base_uri": "https://localhost:8080/"
        },
        "id": "AQ3UAOgIvkow",
        "outputId": "95a8da25-4440-4aa5-9468-1fa6f9c61bc2"
      },
      "outputs": [
        {
          "output_type": "stream",
          "name": "stdout",
          "text": [
            "Epoch: 19\n",
            "****************************************\n",
            "Train Loss: 3.222320263202374\n",
            "Train Accuracy: 0.21978021978021978\n",
            "Test Accuracy: 0.17901234567901234\n",
            "\n",
            "Epoch: 39\n",
            "****************************************\n",
            "Train Loss: 2.5942772456577847\n",
            "Train Accuracy: 0.3228021978021978\n",
            "Test Accuracy: 0.24074074074074073\n",
            "\n",
            "Epoch: 59\n",
            "****************************************\n",
            "Train Loss: 2.2557433201716495\n",
            "Train Accuracy: 0.39354395604395603\n",
            "Test Accuracy: 0.2716049382716049\n",
            "\n",
            "Epoch: 79\n",
            "****************************************\n",
            "Train Loss: 2.013700254670866\n",
            "Train Accuracy: 0.45123626373626374\n",
            "Test Accuracy: 0.2777777777777778\n",
            "\n",
            "Epoch: 99\n",
            "****************************************\n",
            "Train Loss: 1.8225191137292882\n",
            "Train Accuracy: 0.49107142857142855\n",
            "Test Accuracy: 0.2777777777777778\n",
            "\n",
            "Epoch: 119\n",
            "****************************************\n",
            "Train Loss: 1.663433389349298\n",
            "Train Accuracy: 0.5315934065934066\n",
            "Test Accuracy: 0.2777777777777778\n",
            "\n",
            "Epoch: 139\n",
            "****************************************\n",
            "Train Loss: 1.5281504536723043\n",
            "Train Accuracy: 0.5728021978021978\n",
            "Test Accuracy: 0.2777777777777778\n",
            "\n",
            "Epoch: 159\n",
            "****************************************\n",
            "Train Loss: 1.4138734209668504\n",
            "Train Accuracy: 0.6057692307692307\n",
            "Test Accuracy: 0.2716049382716049\n",
            "\n",
            "Epoch: 179\n",
            "****************************************\n",
            "Train Loss: 1.3154949355911423\n",
            "Train Accuracy: 0.6401098901098901\n",
            "Test Accuracy: 0.2716049382716049\n",
            "\n",
            "Epoch: 199\n",
            "****************************************\n",
            "Train Loss: 1.2302516580937983\n",
            "Train Accuracy: 0.6675824175824175\n",
            "Test Accuracy: 0.2716049382716049\n",
            "\n"
          ]
        }
      ],
      "source": [
        "train_losses = []\n",
        "train_accuracies = []\n",
        "test_accuracies = []\n",
        "test_losses = []\n",
        "\n",
        "for epoch in range(200):\n",
        "    train_correct = 0\n",
        "    train_loss = 0\n",
        "    test_correct = 0\n",
        "    test_loss = 0\n",
        "\n",
        "    model.train()\n",
        "    for labels, features in trainloader:\n",
        "        labels, features = labels.to(device), features.to(device)\n",
        "        optim.zero_grad()\n",
        "        y_pred = model(features)\n",
        "        l = loss(y_pred, labels)\n",
        "        l.backward()\n",
        "        optim.step()\n",
        "\n",
        "        preds = torch.argmax(y_pred, dim=1)\n",
        "        train_correct += (preds == labels).sum().item()\n",
        "        train_loss += l.item()\n",
        "\n",
        "\n",
        "\n",
        "    model.eval()\n",
        "    with torch.no_grad():\n",
        "        for labels, features in testloader:\n",
        "            labels, features = labels.to(device), features.to(device)\n",
        "            y_pred = model(features)\n",
        "            l = loss(y_pred, labels)\n",
        "            test_loss += l.item()\n",
        "            preds = torch.argmax(y_pred, dim=1)\n",
        "            test_correct += (preds == labels).sum().item()\n",
        "\n",
        "    train_losses.append(train_loss/len(trainset))\n",
        "    train_accuracies.append(train_correct/len(trainset))\n",
        "    test_accuracies.append(test_correct/len(testset))\n",
        "    test_losses.append(test_loss/len(testset))\n",
        "\n",
        "    if epoch % 20 == 19:\n",
        "        print(f'Epoch: {epoch}')\n",
        "        print('*'*40)\n",
        "        print(f'Train Loss: {train_loss/len(trainset)}')\n",
        "        print(f'Train Accuracy: {train_correct/len(trainset)}')\n",
        "        print(f'Test Accuracy: {test_correct/len(testset)}')\n",
        "        print()\n",
        ""
      ]
    },
    {
      "cell_type": "code",
      "execution_count": 24,
      "metadata": {
        "id": "d7OZSApu1h58",
        "outputId": "07a1755b-d76b-4395-beaa-b866c07e0240",
        "colab": {
          "base_uri": "https://localhost:8080/",
          "height": 468
        }
      },
      "outputs": [
        {
          "output_type": "execute_result",
          "data": {
            "text/plain": [
              "<matplotlib.legend.Legend at 0x7f2e4423d6f0>"
            ]
          },
          "metadata": {},
          "execution_count": 24
        },
        {
          "output_type": "display_data",
          "data": {
            "text/plain": [
              "<Figure size 1000x500 with 2 Axes>"
            ],
            "image/png": "[encoded data removed]"
          },
          "metadata": {}
        }
      ],
      "source": [
        "fig, axs = plt.subplots(1, 2, figsize = (10, 5))\n",
        "axs[0].plot(train_losses, label = 'training loss')\n",
        "axs[0].plot(test_losses, label = 'testing loss')\n",
        "axs[0].legend()\n",
        "axs[1].plot(train_accuracies, label = 'training accuracy')\n",
        "axs[1].plot(test_accuracies, label = 'testing accuracy')\n",
        "axs[1].legend()"
      ]
    },
    {
      "cell_type": "markdown",
      "metadata": {
        "id": "iXdKHsEe1h58"
      },
      "source": [
        "#### Skipgram Training"
      ]
    },
    {
      "cell_type": "code",
      "execution_count": 25,
      "metadata": {
        "id": "N5wS8koc1h58",
        "outputId": "80acdb08-ec43-4b98-e0ef-46439059baa8",
        "colab": {
          "base_uri": "https://localhost:8080/"
        }
      },
      "outputs": [
        {
          "output_type": "execute_result",
          "data": {
            "text/plain": [
              "(11649, 1295)"
            ]
          },
          "metadata": {},
          "execution_count": 25
        }
      ],
      "source": [
        "# Create Skipgram instance, loss, optimizer, dataset, and dataloader\n",
        "batch_size = 256\n",
        "\n",
        "model = Skipgram(vocab_size, 50)\n",
        "model.to(device)\n",
        "loss = nn.CrossEntropyLoss(reduction='sum')\n",
        "optim = torch.optim.Adam(model.parameters())\n",
        "\n",
        "X_train, X_test, y_train, y_test = train_test_split(SKIP_Xs, SKIP_ys, test_size = .1)\n",
        "trainset = Simple_Dataset(X_train, y_train)\n",
        "testset = Simple_Dataset(X_test, y_test)\n",
        "trainloader = DataLoader(trainset, batch_size=batch_size, shuffle=True)\n",
        "testloader = DataLoader(testset, batch_size=batch_size, shuffle=False)\n",
        "\n",
        "len(trainset), len(testset)"
      ]
    },
    {
      "cell_type": "code",
      "execution_count": 26,
      "metadata": {
        "id": "NgGMWI551h58",
        "outputId": "999f14da-4010-40c5-92f8-ec3a1240113a",
        "colab": {
          "base_uri": "https://localhost:8080/"
        }
      },
      "outputs": [
        {
          "output_type": "stream",
          "name": "stdout",
          "text": [
            "Epoch: 19\n",
            "****************************************\n",
            "Train Loss: 3.597930389490749\n",
            "Train Accuracy: 0.19237702807107906\n",
            "Test Accuracy: 0.17065637065637065\n",
            "\n",
            "Epoch: 39\n",
            "****************************************\n",
            "Train Loss: 3.506849080833286\n",
            "Train Accuracy: 0.19366469224826166\n",
            "Test Accuracy: 0.17065637065637065\n",
            "\n",
            "Epoch: 59\n",
            "****************************************\n",
            "Train Loss: 3.468630848099555\n",
            "Train Accuracy: 0.19503820070392308\n",
            "Test Accuracy: 0.1722007722007722\n",
            "\n",
            "Epoch: 79\n",
            "****************************************\n",
            "Train Loss: 3.445649102415913\n",
            "Train Accuracy: 0.19512404498240193\n",
            "Test Accuracy: 0.1722007722007722\n",
            "\n",
            "Epoch: 99\n",
            "****************************************\n",
            "Train Loss: 3.429986762984115\n",
            "Train Accuracy: 0.19503820070392308\n",
            "Test Accuracy: 0.17142857142857143\n",
            "\n",
            "Epoch: 119\n",
            "****************************************\n",
            "Train Loss: 3.418593030823629\n",
            "Train Accuracy: 0.19512404498240193\n",
            "Test Accuracy: 0.17142857142857143\n",
            "\n",
            "Epoch: 139\n",
            "****************************************\n",
            "Train Loss: 3.4095472711914647\n",
            "Train Accuracy: 0.19512404498240193\n",
            "Test Accuracy: 0.17142857142857143\n",
            "\n",
            "Epoch: 159\n",
            "****************************************\n",
            "Train Loss: 3.402988815995304\n",
            "Train Accuracy: 0.19452313503305005\n",
            "Test Accuracy: 0.17142857142857143\n",
            "\n",
            "Epoch: 179\n",
            "****************************************\n",
            "Train Loss: 3.3973089521540545\n",
            "Train Accuracy: 0.19495235642544426\n",
            "Test Accuracy: 0.17065637065637065\n",
            "\n",
            "Epoch: 199\n",
            "****************************************\n",
            "Train Loss: 3.392508834981644\n",
            "Train Accuracy: 0.1948665121469654\n",
            "Test Accuracy: 0.17142857142857143\n",
            "\n"
          ]
        }
      ],
      "source": [
        "train_losses = []\n",
        "train_accuracies = []\n",
        "test_accuracies = []\n",
        "test_losses = []\n",
        "\n",
        "for epoch in range(200):\n",
        "    train_correct = 0\n",
        "    train_loss = 0\n",
        "    test_correct = 0\n",
        "    test_loss = 0\n",
        "\n",
        "    model.train()\n",
        "    for labels, features in trainloader:\n",
        "        labels, features = labels.to(device), features.to(device)\n",
        "        optim.zero_grad()\n",
        "        y_pred = model(features)\n",
        "        l = loss(y_pred, labels)\n",
        "        l.backward()\n",
        "        optim.step()\n",
        "\n",
        "        preds = torch.argmax(y_pred, dim=1)\n",
        "        train_correct += (preds == labels).sum().item()\n",
        "        train_loss += l.item()\n",
        "\n",
        "\n",
        "\n",
        "    model.eval()\n",
        "    with torch.no_grad():\n",
        "        for labels, features in testloader:\n",
        "            labels, features = labels.to(device), features.to(device)\n",
        "            y_pred = model(features)\n",
        "            l = loss(y_pred, labels)\n",
        "            test_loss += l.item()\n",
        "            preds = torch.argmax(y_pred, dim=1)\n",
        "            test_correct += (preds == labels).sum().item()\n",
        "\n",
        "    train_losses.append(train_loss/len(trainset))\n",
        "    train_accuracies.append(train_correct/len(trainset))\n",
        "    test_accuracies.append(test_correct/len(testset))\n",
        "    test_losses.append(test_loss/len(testset))\n",
        "\n",
        "    if epoch % 20 == 19:\n",
        "        print(f'Epoch: {epoch}')\n",
        "        print('*'*40)\n",
        "        print(f'Train Loss: {train_loss/len(trainset)}')\n",
        "        print(f'Train Accuracy: {train_correct/len(trainset)}')\n",
        "        print(f'Test Accuracy: {test_correct/len(testset)}')\n",
        "        print()\n",
        ""
      ]
    },
    {
      "cell_type": "code",
      "execution_count": 27,
      "metadata": {
        "id": "ucGL2_Ka1h58",
        "outputId": "33dc9e93-9f81-4b92-f1e5-3b68cbf85bc4",
        "colab": {
          "base_uri": "https://localhost:8080/",
          "height": 465
        }
      },
      "outputs": [
        {
          "output_type": "execute_result",
          "data": {
            "text/plain": [
              "<matplotlib.legend.Legend at 0x7f2e69d215d0>"
            ]
          },
          "metadata": {},
          "execution_count": 27
        },
        {
          "output_type": "display_data",
          "data": {
            "text/plain": [
              "<Figure size 1000x500 with 2 Axes>"
            ],
            "image/png": "[encoded data removed]"
          },
          "metadata": {}
        }
      ],
      "source": [
        "fig, axs = plt.subplots(1, 2, figsize = (10, 5))\n",
        "axs[0].plot(train_losses, label = 'training loss')\n",
        "axs[0].plot(test_losses, label = 'testing loss')\n",
        "axs[0].legend()\n",
        "axs[1].plot(train_accuracies, label = 'training accuracy')\n",
        "axs[1].plot(test_accuracies, label = 'testing accuracy')\n",
        "axs[1].legend()"
      ]
    }
  ],
  "metadata": {
    "colab": {
      "provenance": [],
      "gpuType": "T4"
    },
    "kernelspec": {
      "display_name": "Python 3",
      "name": "python3"
    },
    "language_info": {
      "codemirror_mode": {
        "name": "ipython",
        "version": 3
      },
      "file_extension": ".py",
      "mimetype": "text/x-python",
      "name": "python",
      "nbconvert_exporter": "python",
      "pygments_lexer": "ipython3",
      "version": "3.13.0"
    },
    "accelerator": "GPU"
  },
  "nbformat": 4,
  "nbformat_minor": 0
}