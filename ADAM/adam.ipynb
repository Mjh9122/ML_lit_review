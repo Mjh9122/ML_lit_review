{
  "cells": [
    {
      "cell_type": "markdown",
      "source": [
        "# Notes on Adam: A method for Stochastic Optimization\n",
        "## Authors Diederik P. Kingma, Jimmy Ba\n",
        "### Notes: Michael Holtz"
      ],
      "metadata": {
        "id": "Kq4xMGFlDHx2"
      }
    },
    {
      "cell_type": "markdown",
      "source": [
        "### Abstract\n",
        "The authors propose Adam and Adamax, algorithms for first-order gradient based optimization of stochastic objective functions, based on adaptive estimations of lower-order moments. They claim that it is efficient, easy to understand, and performs comperably if not better than other optimization functions."
      ],
      "metadata": {
        "id": "ybov0WDIDbau"
      }
    },
    {
      "cell_type": "markdown",
      "source": [
        "### Introduction\n",
        "\n",
        "The authors introduce optimization problems as essential to science and engineering. They note that gradient descent is a good way of solving these problems, given the objective function is differentible w.r.t. its parameters. SGD has been shown to be efficient and effective in deep learning tasks. They propose adam as a competitor to SGD, RMSprop, and AdaGrad."
      ],
      "metadata": {
        "id": "9aKTj3mpEDOO"
      }
    },
    {
      "cell_type": "code",
      "execution_count": 54,
      "metadata": {
        "id": "cfsR0tIMAjbw"
      },
      "outputs": [],
      "source": [
        "def Adam(f, f_grad, theta, convergence_criteria, alpha = .001, beta1 = .9, beta2 = .999, eps = 10 ** -8):\n",
        "    m, v, t = 0, 0, 0\n",
        "    while not convergence_criteria:\n",
        "        t = t + 1\n",
        "        g = f_grad(theta)\n",
        "        m = beta1 * m + (1 - beta1) * g\n",
        "        v = beta2 * v + (1 - beta2) * g ** 2\n",
        "        m_hat = m / (1 - beta1 ** t)\n",
        "        v_hat = v / (1 - beta2 ** t)\n",
        "        theta = theta - alpha * m_hat / (v_hat ** .5 + eps)\n",
        "    return theta"
      ]
    },
    {
      "cell_type": "markdown",
      "source": [
        "### Algorithm\n",
        "The algorithm is proposed to find a minimum of $f(\\theta)$, a stochastic scalar function differentiable with respect to $\\theta$. The stochasticity may come from the evaluation of random samples (minibatches) as in the case of machine learning training. The algorithm updates exponential moving averages of the gradient and the squared gradient, controled by the hyper-parameters $\\beta_1$ and $\\beta_2$. The moving averages are estimates for the first and second moments of the gradient (mean and uncentered variance). As these estimates are initialized to 0, the estimates are biased towards 0. This is corrected for in $\\hat{m}$ and $\\hat{v}$ where the bias is corrected for.  "
      ],
      "metadata": {
        "id": "bIOijfdeG1Sm"
      }
    },
    {
      "cell_type": "markdown",
      "source": [
        "### Update Rule\n",
        "The stepsize in Adam's update rule is $\\alpha \\cdot \\frac{\\hat{m_t}}{\\sqrt{\\hat{v_t}}}$ this stepsize is bound by $\\alpha \\cdot \\frac{(1 - \\beta_1)}{\\sqrt{1 - \\beta_2}}$ if $(1 - \\beta_1) > (\\sqrt{1-\\beta_2})$ and $\\alpha$ otherwise. This means that the effective magnitude of the steps taken in parameter space are approximately bounded by the step size hyper-parameter. This value can be thought of as a region anound the current parameters in the parameter space within which the user trusts that the gradient at the current parameters is useful.\n"
      ],
      "metadata": {
        "id": "QI3G9HLiIm8-"
      }
    },
    {
      "cell_type": "markdown",
      "source": [
        "### Initial Bias Correction and Convergence Analysis\n",
        "The authors derive the bias correction term for the second moment, and evaluate the convergence criteria of the algorithm."
      ],
      "metadata": {
        "id": "VppRLT_ULp-n"
      }
    },
    {
      "cell_type": "markdown",
      "source": [
        "### The rest of the paper is filled with examples of Adam use, showing adam outperforming other optimization algorithms such as SGD, Adagrad, and RMSprop"
      ],
      "metadata": {
        "id": "CxHEaz3TMCef"
      }
    },
    {
      "cell_type": "code",
      "source": [
        "def AdaMax(f, f_grad, theta, convergence_criteria, alpha = .001, beta1 = .9, beta2 = .999, eps = 10 ** -8):\n",
        "    m, v, t = 0, 0, 0\n",
        "    while not convergence_criteria:\n",
        "        t = t + 1\n",
        "        g = f_grad(theta)\n",
        "        m = beta1 * m + (1 - beta1) * g\n",
        "        u = max(beta2 * u, abs(g))\n",
        "        theta = theta - alpha/(1 - beta1 ** t) * m / (u + eps)\n",
        "    return theta"
      ],
      "metadata": {
        "id": "w-cX8sCRMB5g"
      },
      "execution_count": 55,
      "outputs": []
    },
    {
      "cell_type": "markdown",
      "source": [
        "### Experiment with Adam vs AdaMax vs SGD vs RMSprop with cnn on mnist"
      ],
      "metadata": {
        "id": "dD5UkBckNOUw"
      }
    },
    {
      "cell_type": "code",
      "execution_count": 56,
      "metadata": {
        "id": "SeHEIdsIAjbx",
        "outputId": "ad016ee2-48b9-4e33-db92-f2d0239858a1",
        "colab": {
          "base_uri": "https://localhost:8080/"
        }
      },
      "outputs": [
        {
          "output_type": "execute_result",
          "data": {
            "text/plain": [
              "device(type='cpu')"
            ]
          },
          "metadata": {},
          "execution_count": 56
        }
      ],
      "source": [
        "import torch\n",
        "import torchvision\n",
        "import torchvision.transforms as transforms\n",
        "import torch.nn as nn\n",
        "import torch.optim as optim\n",
        "import matplotlib.pyplot as plt\n",
        "\n",
        "from tqdm import tqdm\n",
        "\n",
        "device = torch.device(\"cuda:0\" if torch.cuda.is_available() else \"cpu\")\n",
        "device"
      ]
    },
    {
      "cell_type": "code",
      "source": [
        "transform = transforms.Compose([transforms.ToTensor(), transforms.Normalize((0.5,), (0.5,))])\n",
        "trainset = torchvision.datasets.MNIST(root='./data', train=True, download=True, transform=transform)\n",
        "trainloader = torch.utils.data.DataLoader(trainset, batch_size=64, shuffle=True)\n",
        "testset = torchvision.datasets.MNIST(root='./data', train=False, download=True, transform=transform)\n",
        "testloader = torch.utils.data.DataLoader(testset, batch_size=1000, shuffle=False)\n",
        "\n",
        "print('Size of training set:', len(trainset))\n",
        "print('Size of testing set:', len(testset))"
      ],
      "metadata": {
        "id": "srfCJRH4NXUQ",
        "outputId": "ff428a4d-62fc-4e57-db43-333639fa1cdb",
        "colab": {
          "base_uri": "https://localhost:8080/"
        }
      },
      "execution_count": 57,
      "outputs": [
        {
          "output_type": "stream",
          "name": "stdout",
          "text": [
            "Size of training set: 60000\n",
            "Size of testing set: 10000\n"
          ]
        }
      ]
    },
    {
      "cell_type": "code",
      "source": [
        "class Net(nn.Module):\n",
        "    def __init__(self):\n",
        "        super(Net, self).__init__()\n",
        "        self.conv = nn.Conv2d(1, 3, 5)\n",
        "        self.pool = nn.MaxPool2d(2, 2)\n",
        "        self.conv2 = nn.Conv2d(3, 6, 5)\n",
        "        self.relu = nn.ReLU()\n",
        "        self.linear1 = nn.Linear(6 * 4 * 4, 10)\n",
        "        self.softmax = nn.Softmax(dim = 1)\n",
        "\n",
        "    def forward(self, x):\n",
        "        x = self.pool(self.relu(self.conv(x)))\n",
        "        x = self.pool(self.relu(self.conv2(x)))\n",
        "        x = x.view(-1, 6 * 4 * 4)\n",
        "        x = self.linear1(x)\n",
        "        x = self.softmax(x)\n",
        "        return x"
      ],
      "metadata": {
        "id": "2AZ5VT5WN-nP"
      },
      "execution_count": 58,
      "outputs": []
    },
    {
      "cell_type": "code",
      "source": [
        "def train_model(optimizer):\n",
        "    model = Net().to(device)\n",
        "    criterion = nn.CrossEntropyLoss()\n",
        "    optimizer = optimizer(model.parameters())\n",
        "\n",
        "    train_loss = []\n",
        "    test_loss = []\n",
        "\n",
        "    for epoch in tqdm(range(10)):\n",
        "        running_loss = 0.0\n",
        "        for inputs, labels in trainloader:\n",
        "            inputs, labels = inputs.to(device), labels.to(device)\n",
        "            optimizer.zero_grad()\n",
        "            outputs = model(inputs)\n",
        "            loss = criterion(outputs, labels)\n",
        "            loss.backward()\n",
        "            optimizer.step()\n",
        "            running_loss += loss.item()\n",
        "        train_loss.append(running_loss / len(trainloader))\n",
        "\n",
        "        running_loss = 0.0\n",
        "        with torch.no_grad():\n",
        "            for inputs, labels in testloader:\n",
        "                inputs, labels = inputs.to(device), labels.to(device)\n",
        "                outputs = model(inputs)\n",
        "                loss = criterion(outputs, labels)\n",
        "                running_loss += loss.item()\n",
        "        test_loss.append(running_loss / len(testloader))\n",
        "\n",
        "    return train_loss, test_loss"
      ],
      "metadata": {
        "id": "x8BHCbuFOj-o"
      },
      "execution_count": 59,
      "outputs": []
    },
    {
      "cell_type": "code",
      "source": [
        "optimizers = [optim.SGD, optim.Adam, optim.Adamax, optim.RMSprop]\n",
        "train_losses = []\n",
        "test_losses = []\n",
        "for optimizer in optimizers:\n",
        "    print(optimizer.__name__)\n",
        "    train_loss, test_loss = train_model(optimizer)\n",
        "    train_losses.append(train_loss)\n",
        "    test_losses.append(test_loss)"
      ],
      "metadata": {
        "id": "NP-4F-16PYiv",
        "outputId": "d9ca645b-1574-4e8b-fcee-0f185dd12f6f",
        "colab": {
          "base_uri": "https://localhost:8080/"
        }
      },
      "execution_count": 60,
      "outputs": [
        {
          "output_type": "stream",
          "name": "stdout",
          "text": [
            "SGD\n"
          ]
        },
        {
          "output_type": "stream",
          "name": "stderr",
          "text": [
            "100%|██████████| 10/10 [05:12<00:00, 31.23s/it]\n"
          ]
        },
        {
          "output_type": "stream",
          "name": "stdout",
          "text": [
            "Adam\n"
          ]
        },
        {
          "output_type": "stream",
          "name": "stderr",
          "text": [
            "100%|██████████| 10/10 [05:20<00:00, 32.05s/it]\n"
          ]
        },
        {
          "output_type": "stream",
          "name": "stdout",
          "text": [
            "Adamax\n"
          ]
        },
        {
          "output_type": "stream",
          "name": "stderr",
          "text": [
            "100%|██████████| 10/10 [05:19<00:00, 31.99s/it]\n"
          ]
        },
        {
          "output_type": "stream",
          "name": "stdout",
          "text": [
            "RMSprop\n"
          ]
        },
        {
          "output_type": "stream",
          "name": "stderr",
          "text": [
            "100%|██████████| 10/10 [05:25<00:00, 32.56s/it]\n"
          ]
        }
      ]
    },
    {
      "cell_type": "code",
      "source": [
        "fig, axs = plt.subplots(1, 2, figsize = (10, 5))\n",
        "for i in range(len(optimizers)):\n",
        "    axs[0].plot(train_losses[i], label = optimizers[i].__name__)\n",
        "    axs[0].legend()\n",
        "    axs[0].set_title('Training Loss')\n",
        "    axs[1].plot(test_losses[i], label=optimizers[i].__name__)\n",
        "    axs[1].legend()\n",
        "    axs[1].set_title('Testing Loss')\n",
        "plt.show()"
      ],
      "metadata": {
        "id": "nQxSoI8iQBcv",
        "outputId": "f1178fa8-fb93-4093-9922-496e6ce245c7",
        "colab": {
          "base_uri": "https://localhost:8080/",
          "height": 468
        }
      },
      "execution_count": 61,
      "outputs": [
        {
          "output_type": "display_data",
          "data": {
            "text/plain": [
              "<Figure size 1000x500 with 2 Axes>"
            ],
            "image/png": "[encoded data removed]"
          },
          "metadata": {}
        }
      ]
    }
  ],
  "metadata": {
    "kernelspec": {
      "display_name": "Python 3",
      "language": "python",
      "name": "python3"
    },
    "language_info": {
      "codemirror_mode": {
        "name": "ipython",
        "version": 3
      },
      "file_extension": ".py",
      "mimetype": "text/x-python",
      "name": "python",
      "nbconvert_exporter": "python",
      "pygments_lexer": "ipython3",
      "version": "3.12.8"
    },
    "colab": {
      "provenance": []
    }
  },
  "nbformat": 4,
  "nbformat_minor": 0
}